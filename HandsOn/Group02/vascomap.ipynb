{
 "cells": [
  {
   "cell_type": "markdown",
   "metadata": {},
   "source": [
    "# INSTALAR RDFLIB"
   ]
  },
  {
   "cell_type": "code",
   "execution_count": null,
   "metadata": {
    "colab": {
     "base_uri": "https://localhost:8080/"
    },
    "id": "i8KXF2hrbbM1",
    "outputId": "0bdd0b80-85d9-4eab-c2ae-1ba7957f7e89",
    "scrolled": true
   },
   "outputs": [],
   "source": [
    "%pip install rdflib"
   ]
  },
  {
   "cell_type": "markdown",
   "metadata": {},
   "source": [
    "# IMPORTAR LIBRERÍAS"
   ]
  },
  {
   "cell_type": "code",
   "execution_count": null,
   "metadata": {
    "colab": {
     "base_uri": "https://localhost:8080/",
     "height": 355
    },
    "id": "A2S2Ywy-bglZ",
    "outputId": "07ce307a-d2f2-4ec7-b621-20af32559f6b"
   },
   "outputs": [],
   "source": [
    "from rdflib import Graph, Namespace, Literal\n",
    "from rdflib.namespace import RDF, RDFS\n",
    "from rdflib.plugins.sparql import prepareQuery"
   ]
  },
  {
   "cell_type": "markdown",
   "metadata": {},
   "source": [
    "# GENERAR GRAFO"
   ]
  },
  {
   "cell_type": "code",
   "execution_count": null,
   "metadata": {},
   "outputs": [],
   "source": [
    "g = Graph()\n",
    "g.namespace_manager.bind('ns', Namespace(\"http://www.vascomap.com/ontology#\"), override=False)\n",
    "g.namespace_manager.bind('wd', Namespace(\"https://www.wikidata.org/wiki/\"), override=False)\n",
    "g.namespace_manager.bind('owl', Namespace(\"http://www.w3.org/2002/07/owl#\"), override=False)\n",
    "g.parse(\"vascomap-with-links.ttl\")\n",
    "\n",
    "rdfs = Namespace(\"http://www.w3.org/2000/01/rdf-schema#\")\n",
    "ns = Namespace(\"http://www.vascomap.com/ontology#\")\n",
    "wd = Namespace(\"https://www.wikidata.org/wiki/\")\n",
    "owl = Namespace(\"http://www.w3.org/2002/07/owl#\")"
   ]
  },
  {
   "cell_type": "markdown",
   "metadata": {},
   "source": [
    "### CAMBIO DE FORMATO"
   ]
  },
  {
   "cell_type": "code",
   "execution_count": null,
   "metadata": {},
   "outputs": [],
   "source": [
    "g.parse(\"./rdf/vascomap-with-links.nt\")\n",
    "g.serialize(\"vascomap-with-links.ttl\")"
   ]
  },
  {
   "cell_type": "markdown",
   "metadata": {},
   "source": [
    "# QUERIES"
   ]
  },
  {
   "cell_type": "markdown",
   "metadata": {},
   "source": [
    "### QUERY PARA VER EL RDF"
   ]
  },
  {
   "cell_type": "code",
   "execution_count": null,
   "metadata": {},
   "outputs": [],
   "source": [
    "q1 = prepareQuery('''\n",
    "    SELECT distinct ?x ?y ?z\n",
    "    WHERE {\n",
    "        ?x ?y ?z.\n",
    "    }\n",
    "    '''\n",
    ")\n",
    "\n",
    "for r in g.query(q1):\n",
    "    print(r)"
   ]
  },
  {
   "cell_type": "markdown",
   "metadata": {
    "id": "r019eq0SdoVj"
   },
   "source": [
    "### QUERY PARA VER TODAS LAS OBSERVACIONES DE DOTPOL POR MUNICIPIOS\n"
   ]
  },
  {
   "cell_type": "code",
   "execution_count": null,
   "metadata": {
    "id": "vkc-thamdj0L"
   },
   "outputs": [],
   "source": [
    "q2 = prepareQuery('''\n",
    "    SELECT distinct ?obs ?value ?id ?mun ?munLink \n",
    "    WHERE {\n",
    "        ?obs a ns:DotPol;\n",
    "            ns:has_value ?value;\n",
    "            ns:has_id ?id;\n",
    "            ns:takesPlaceInMun ?mun.\n",
    "        ?mun owl:sameAs ?munLink.\n",
    "    }\n",
    "    ''',\n",
    "    initNs = {\"ns\" : ns, \"owl\" : owl}\n",
    ")\n",
    "\n",
    "for r in g.query(q2):\n",
    "  print(r)"
   ]
  },
  {
   "cell_type": "markdown",
   "metadata": {
    "id": "KWcgpWK_dryy"
   },
   "source": [
    "### QUERY PARA VER TODAS LAS OBSERVACIONES DE INDDEL POR PROVINCIAS\n"
   ]
  },
  {
   "cell_type": "code",
   "execution_count": null,
   "metadata": {
    "id": "qc_Z_CL1dykN"
   },
   "outputs": [],
   "source": [
    "q3 = prepareQuery('''\n",
    "    SELECT distinct ?obs ?value ?id ?prov ?provLink\n",
    "    WHERE {\n",
    "        ?obs a ns:IndDel;\n",
    "            ns:has_value ?value;\n",
    "            ns:has_id ?id;\n",
    "            ns:takesPlaceInProv ?prov.\n",
    "        ?prov owl:sameAs ?provLink.\n",
    "    }\n",
    "    ''',\n",
    "    initNs = {\"ns\" : ns}\n",
    ")\n",
    "\n",
    "for r in g.query(q3):\n",
    "  print(r)"
   ]
  },
  {
   "cell_type": "markdown",
   "metadata": {
    "id": "ykSYuYipduKK"
   },
   "source": [
    "### QUERY PARA VER TODAS LAS OBSERVACIONES DE SEGZON POR PROVINCIAS"
   ]
  },
  {
   "cell_type": "code",
   "execution_count": null,
   "metadata": {
    "id": "dCxysa4odwJK"
   },
   "outputs": [],
   "source": [
    "q4 = prepareQuery('''\n",
    "    SELECT distinct ?obs ?value ?id ?prov ?provLink\n",
    "    WHERE {\n",
    "        ?obs a ns:SegZon;\n",
    "            ns:has_value ?value;\n",
    "            ns:has_id ?id;\n",
    "            ns:takesPlaceInProv ?prov.\n",
    "        ?prov owl:sameAs ?provLink.\n",
    "    }\n",
    "    ''',\n",
    "    initNs = {\"ns\" : ns}\n",
    ")\n",
    "\n",
    "for r in g.query(q4):\n",
    "  print(r)"
   ]
  },
  {
   "cell_type": "markdown",
   "metadata": {
    "id": "r4m87_9tdwij"
   },
   "source": [
    "### QUERY PARA VER TODAS LAS OBSERVACIONES DE INFPEN POR PROVINCIAS"
   ]
  },
  {
   "cell_type": "code",
   "execution_count": null,
   "metadata": {
    "id": "aze9FauOfGKS"
   },
   "outputs": [],
   "source": [
    "q5 = prepareQuery('''\n",
    "    SELECT distinct ?obs ?value ?id ?prov ?provLink\n",
    "    WHERE {\n",
    "        ?obs a ns:InfPen;\n",
    "            ns:has_value ?value;\n",
    "            ns:has_id ?id;\n",
    "            ns:takesPlaceInProv ?prov.\n",
    "        ?prov owl:sameAs ?provLink.\n",
    "    }\n",
    "    ''',\n",
    "    initNs = {\"ns\" : ns}\n",
    ")\n",
    "\n",
    "for r in g.query(q5):\n",
    "  print(r)"
   ]
  },
  {
   "cell_type": "markdown",
   "metadata": {
    "id": "105szKTSfGR0"
   },
   "source": [
    "### QUERY PARA VER TODOS LOS DATOS DE LAS PROVINCIAS"
   ]
  },
  {
   "cell_type": "code",
   "execution_count": null,
   "metadata": {
    "id": "qN9eeZDcfIIr"
   },
   "outputs": [],
   "source": [
    "q6 = prepareQuery('''\n",
    "    SELECT distinct ?prov ?name ?link ?mun\n",
    "    WHERE {\n",
    "        ?prov a ns:Province;\n",
    "            ns:has_prov_name ?name;\n",
    "            ns:hasMun ?mun;\n",
    "            owl:sameAs ?link.\n",
    "    }\n",
    "    ''',\n",
    "    initNs = {\"ns\" : ns}\n",
    ")\n",
    "\n",
    "for r in g.query(q6):\n",
    "  print(r)"
   ]
  },
  {
   "cell_type": "markdown",
   "metadata": {
    "id": "1cDkj-ikfIRz"
   },
   "source": [
    "### QUERY PARA VER TODOS LOS DATOS DE LOS MUNICIPIOS"
   ]
  },
  {
   "cell_type": "code",
   "execution_count": null,
   "metadata": {
    "id": "V4lW0JYsfKmH"
   },
   "outputs": [],
   "source": [
    "q7 = prepareQuery('''\n",
    "    SELECT distinct ?mun ?name ?code ?prov ?link\n",
    "    WHERE {\n",
    "        ?mun a ns:Municipality;\n",
    "            ns:has_mun_name ?name;\n",
    "            ns:has_mun_code ?code;\n",
    "            ns:belongsTo ?prov;\n",
    "            owl:sameAs ?link.\n",
    "    }\n",
    "    ''',\n",
    "    initNs = {\"ns\" : ns, \"owl\" : owl}\n",
    ")\n",
    "\n",
    "for r in g.query(q7):\n",
    "  print(r)"
   ]
  },
  {
   "cell_type": "markdown",
   "metadata": {
    "id": "iHPiMGTAfKuT"
   },
   "source": [
    "### QUERY PARA OBTENER LOS DATOS RELACIONADOS CON LA OBSERVACICÓN DEL ÍNDICE DE DOTACIÓN POLICIAL QUE HAY EN ABADIÑO"
   ]
  },
  {
   "cell_type": "code",
   "execution_count": null,
   "metadata": {},
   "outputs": [],
   "source": [
    "q8 = prepareQuery('''\n",
    "    SELECT distinct ?obs ?id ?value ?mun ?prov ?provLink\n",
    "    WHERE {\n",
    "        ?obs a ns:DotPol;\n",
    "            ns:has_id ?id;\n",
    "            ns:has_value ?value;\n",
    "            ns:takesPlaceInMun ?mun.\n",
    "        ?mun owl:sameAs wd:Q744893;\n",
    "            ns:belongsTo ?prov.\n",
    "        ?prov owl:sameAs ?provLink.\n",
    "    }\n",
    "    ''',\n",
    "    initNs = {\"ns\" : ns, \"owl\" : owl, \"wd\" : wd}\n",
    ")\n",
    "\n",
    "for r in g.query(q8):\n",
    "  print(r)"
   ]
  },
  {
   "cell_type": "markdown",
   "metadata": {
    "id": "iJERSpRZfNTt"
   },
   "source": [
    "### QUERY PARA OBTENER LOS MUNICIPIOS(NOMBRES) CON UN ÍNDICE DE DELITOS MAYOR A 50"
   ]
  },
  {
   "cell_type": "code",
   "execution_count": null,
   "metadata": {
    "id": "iYWcyMjWfP-r"
   },
   "outputs": [],
   "source": [
    "q9 = prepareQuery('''\n",
    "    SELECT distinct ?obs ?value ?mun ?link\n",
    "    WHERE {\n",
    "        ?obs a ns:IndDel;\n",
    "            ns:has_value ?value;\n",
    "            ns:takesPlaceInMun ?mun.\n",
    "        FILTER(?value > 50).\n",
    "        ?mun owl:sameAs ?link.\n",
    "    }\n",
    "    ''',\n",
    "    initNs = {\"ns\" : ns, \"owl\" : owl}\n",
    ")\n",
    "\n",
    "for r in g.query(q9):\n",
    "  print(r)"
   ]
  },
  {
   "cell_type": "markdown",
   "metadata": {},
   "source": [
    "### QUERY PARA OBTENER LOS MUNICIPIOS QUE PERTENECEN A BISCAY"
   ]
  },
  {
   "cell_type": "code",
   "execution_count": null,
   "metadata": {},
   "outputs": [],
   "source": [
    "q10 = prepareQuery('''\n",
    "    SELECT distinct ?mun ?munName ?code ?munLink\n",
    "    WHERE {\n",
    "        ?prov a ns:Province;\n",
    "            ns:has_prov_name \"Biscay\";\n",
    "            ns:hasMun ?mun.\n",
    "        ?mun a ns:Municipality;\n",
    "            ns:has_mun_name ?munName;\n",
    "            ns:has_mun_code ?code;\n",
    "            owl:sameAs ?munLink.\n",
    "    }\n",
    "    ''',\n",
    "    initNs = {\"ns\" : ns, \"owl\" : owl}\n",
    ")\n",
    "\n",
    "for r in g.query(q10):\n",
    "  print(r)"
   ]
  }
 ],
 "metadata": {
  "colab": {
   "provenance": []
  },
  "kernelspec": {
   "display_name": "Python 3 (ipykernel)",
   "language": "python",
   "name": "python3"
  },
  "language_info": {
   "codemirror_mode": {
    "name": "ipython",
    "version": 3
   },
   "file_extension": ".py",
   "mimetype": "text/x-python",
   "name": "python",
   "nbconvert_exporter": "python",
   "pygments_lexer": "ipython3",
   "version": "3.11.1"
  }
 },
 "nbformat": 4,
 "nbformat_minor": 1
}
