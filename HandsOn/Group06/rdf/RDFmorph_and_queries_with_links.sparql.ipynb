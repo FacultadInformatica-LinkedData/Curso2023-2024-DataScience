{
  "nbformat": 4,
  "nbformat_minor": 0,
  "metadata": {
    "colab": {
      "provenance": []
    },
    "kernelspec": {
      "name": "python3",
      "display_name": "Python 3"
    },
    "language_info": {
      "name": "python"
    }
  },
  "cells": [
    {
      "cell_type": "markdown",
      "source": [
        "# CREACIÓN DE RDF"
      ],
      "metadata": {
        "id": "7jH9FV9j16Ft"
      }
    },
    {
      "cell_type": "code",
      "execution_count": 1,
      "metadata": {
        "colab": {
          "base_uri": "https://localhost:8080/"
        },
        "id": "Ehh386U914Ox",
        "outputId": "9c714818-9f9f-4d87-8d23-f5c0e6b03b35"
      },
      "outputs": [
        {
          "output_type": "stream",
          "name": "stdout",
          "text": [
            "Collecting morph-kgc\n",
            "  Downloading morph_kgc-2.6.4-py3-none-any.whl (53 kB)\n",
            "\u001b[2K     \u001b[90m━━━━━━━━━━━━━━━━━━━━━━━━━━━━━━━━━━━━━━━━\u001b[0m \u001b[32m53.3/53.3 kB\u001b[0m \u001b[31m1.0 MB/s\u001b[0m eta \u001b[36m0:00:00\u001b[0m\n",
            "\u001b[?25hCollecting duckdb<0.8.0,>=0.7.0 (from morph-kgc)\n",
            "  Downloading duckdb-0.7.1-cp310-cp310-manylinux_2_17_x86_64.manylinux2014_x86_64.whl (15.2 MB)\n",
            "\u001b[2K     \u001b[90m━━━━━━━━━━━━━━━━━━━━━━━━━━━━━━━━━━━━━━━━\u001b[0m \u001b[32m15.2/15.2 MB\u001b[0m \u001b[31m78.3 MB/s\u001b[0m eta \u001b[36m0:00:00\u001b[0m\n",
            "\u001b[?25hCollecting elementpath<5.0.0,>=4.0.0 (from morph-kgc)\n",
            "  Downloading elementpath-4.1.5-py3-none-any.whl (216 kB)\n",
            "\u001b[2K     \u001b[90m━━━━━━━━━━━━━━━━━━━━━━━━━━━━━━━━━━━━━━━━\u001b[0m \u001b[32m216.4/216.4 kB\u001b[0m \u001b[31m27.4 MB/s\u001b[0m eta \u001b[36m0:00:00\u001b[0m\n",
            "\u001b[?25hCollecting falcon<4.0.0,>=3.0.0 (from morph-kgc)\n",
            "  Downloading falcon-3.1.3-cp310-cp310-manylinux_2_17_x86_64.manylinux2014_x86_64.whl (10.0 MB)\n",
            "\u001b[2K     \u001b[90m━━━━━━━━━━━━━━━━━━━━━━━━━━━━━━━━━━━━━━━━\u001b[0m \u001b[32m10.0/10.0 MB\u001b[0m \u001b[31m56.3 MB/s\u001b[0m eta \u001b[36m0:00:00\u001b[0m\n",
            "\u001b[?25hCollecting jsonpath-python<2.0.0,>=1.0.6 (from morph-kgc)\n",
            "  Downloading jsonpath_python-1.0.6-py3-none-any.whl (7.6 kB)\n",
            "Collecting pandas<3.0.0,>=2.0.0 (from morph-kgc)\n",
            "  Downloading pandas-2.1.3-cp310-cp310-manylinux_2_17_x86_64.manylinux2014_x86_64.whl (12.3 MB)\n",
            "\u001b[2K     \u001b[90m━━━━━━━━━━━━━━━━━━━━━━━━━━━━━━━━━━━━━━━━\u001b[0m \u001b[32m12.3/12.3 MB\u001b[0m \u001b[31m56.6 MB/s\u001b[0m eta \u001b[36m0:00:00\u001b[0m\n",
            "\u001b[?25hCollecting pyoxigraph<0.4.0,>=0.3.0 (from morph-kgc)\n",
            "  Downloading pyoxigraph-0.3.22-cp310-cp310-manylinux_2_17_x86_64.manylinux2014_x86_64.whl (6.8 MB)\n",
            "\u001b[2K     \u001b[90m━━━━━━━━━━━━━━━━━━━━━━━━━━━━━━━━━━━━━━━━\u001b[0m \u001b[32m6.8/6.8 MB\u001b[0m \u001b[31m12.6 MB/s\u001b[0m eta \u001b[36m0:00:00\u001b[0m\n",
            "\u001b[?25hCollecting rdflib<8.0.0,>=6.1.1 (from morph-kgc)\n",
            "  Downloading rdflib-7.0.0-py3-none-any.whl (531 kB)\n",
            "\u001b[2K     \u001b[90m━━━━━━━━━━━━━━━━━━━━━━━━━━━━━━━━━━━━━━━━\u001b[0m \u001b[32m531.9/531.9 kB\u001b[0m \u001b[31m24.3 MB/s\u001b[0m eta \u001b[36m0:00:00\u001b[0m\n",
            "\u001b[?25hCollecting ruamel-yaml<0.19.0,==0.18.0 (from morph-kgc)\n",
            "  Downloading ruamel.yaml-0.18.0-py3-none-any.whl (113 kB)\n",
            "\u001b[2K     \u001b[90m━━━━━━━━━━━━━━━━━━━━━━━━━━━━━━━━━━━━━━━━\u001b[0m \u001b[32m113.4/113.4 kB\u001b[0m \u001b[31m15.7 MB/s\u001b[0m eta \u001b[36m0:00:00\u001b[0m\n",
            "\u001b[?25hCollecting sql-metadata<3.0.0,>=2.6.0 (from morph-kgc)\n",
            "  Downloading sql_metadata-2.10.0-py3-none-any.whl (22 kB)\n",
            "Requirement already satisfied: sqlalchemy<3.0.0,>=2.0.0 in /usr/local/lib/python3.10/dist-packages (from morph-kgc) (2.0.23)\n",
            "Collecting ruamel.yaml.clib>=0.2.7 (from ruamel-yaml<0.19.0,==0.18.0->morph-kgc)\n",
            "  Downloading ruamel.yaml.clib-0.2.8-cp310-cp310-manylinux_2_17_x86_64.manylinux2014_x86_64.manylinux_2_24_x86_64.whl (526 kB)\n",
            "\u001b[2K     \u001b[90m━━━━━━━━━━━━━━━━━━━━━━━━━━━━━━━━━━━━━━━━\u001b[0m \u001b[32m526.7/526.7 kB\u001b[0m \u001b[31m52.7 MB/s\u001b[0m eta \u001b[36m0:00:00\u001b[0m\n",
            "\u001b[?25hRequirement already satisfied: numpy<2,>=1.22.4 in /usr/local/lib/python3.10/dist-packages (from pandas<3.0.0,>=2.0.0->morph-kgc) (1.23.5)\n",
            "Requirement already satisfied: python-dateutil>=2.8.2 in /usr/local/lib/python3.10/dist-packages (from pandas<3.0.0,>=2.0.0->morph-kgc) (2.8.2)\n",
            "Requirement already satisfied: pytz>=2020.1 in /usr/local/lib/python3.10/dist-packages (from pandas<3.0.0,>=2.0.0->morph-kgc) (2023.3.post1)\n",
            "Collecting tzdata>=2022.1 (from pandas<3.0.0,>=2.0.0->morph-kgc)\n",
            "  Downloading tzdata-2023.3-py2.py3-none-any.whl (341 kB)\n",
            "\u001b[2K     \u001b[90m━━━━━━━━━━━━━━━━━━━━━━━━━━━━━━━━━━━━━━━━\u001b[0m \u001b[32m341.8/341.8 kB\u001b[0m \u001b[31m40.0 MB/s\u001b[0m eta \u001b[36m0:00:00\u001b[0m\n",
            "\u001b[?25hCollecting isodate<0.7.0,>=0.6.0 (from rdflib<8.0.0,>=6.1.1->morph-kgc)\n",
            "  Downloading isodate-0.6.1-py2.py3-none-any.whl (41 kB)\n",
            "\u001b[2K     \u001b[90m━━━━━━━━━━━━━━━━━━━━━━━━━━━━━━━━━━━━━━━━\u001b[0m \u001b[32m41.7/41.7 kB\u001b[0m \u001b[31m5.9 MB/s\u001b[0m eta \u001b[36m0:00:00\u001b[0m\n",
            "\u001b[?25hRequirement already satisfied: pyparsing<4,>=2.1.0 in /usr/local/lib/python3.10/dist-packages (from rdflib<8.0.0,>=6.1.1->morph-kgc) (3.1.1)\n",
            "Requirement already satisfied: sqlparse<0.5.0,>=0.4.1 in /usr/local/lib/python3.10/dist-packages (from sql-metadata<3.0.0,>=2.6.0->morph-kgc) (0.4.4)\n",
            "Requirement already satisfied: typing-extensions>=4.2.0 in /usr/local/lib/python3.10/dist-packages (from sqlalchemy<3.0.0,>=2.0.0->morph-kgc) (4.5.0)\n",
            "Requirement already satisfied: greenlet!=0.4.17 in /usr/local/lib/python3.10/dist-packages (from sqlalchemy<3.0.0,>=2.0.0->morph-kgc) (3.0.1)\n",
            "Requirement already satisfied: six in /usr/local/lib/python3.10/dist-packages (from isodate<0.7.0,>=0.6.0->rdflib<8.0.0,>=6.1.1->morph-kgc) (1.16.0)\n",
            "Installing collected packages: duckdb, tzdata, sql-metadata, ruamel.yaml.clib, pyoxigraph, jsonpath-python, isodate, falcon, elementpath, ruamel-yaml, rdflib, pandas, morph-kgc\n",
            "  Attempting uninstall: duckdb\n",
            "    Found existing installation: duckdb 0.9.2\n",
            "    Uninstalling duckdb-0.9.2:\n",
            "      Successfully uninstalled duckdb-0.9.2\n",
            "  Attempting uninstall: pandas\n",
            "    Found existing installation: pandas 1.5.3\n",
            "    Uninstalling pandas-1.5.3:\n",
            "      Successfully uninstalled pandas-1.5.3\n",
            "\u001b[31mERROR: pip's dependency resolver does not currently take into account all the packages that are installed. This behaviour is the source of the following dependency conflicts.\n",
            "lida 0.0.10 requires fastapi, which is not installed.\n",
            "lida 0.0.10 requires kaleido, which is not installed.\n",
            "lida 0.0.10 requires python-multipart, which is not installed.\n",
            "lida 0.0.10 requires uvicorn, which is not installed.\n",
            "google-colab 1.0.0 requires pandas==1.5.3, but you have pandas 2.1.3 which is incompatible.\n",
            "malloy 2023.1064 requires duckdb<1.0.0,>=0.8.0, but you have duckdb 0.7.1 which is incompatible.\u001b[0m\u001b[31m\n",
            "\u001b[0mSuccessfully installed duckdb-0.7.1 elementpath-4.1.5 falcon-3.1.3 isodate-0.6.1 jsonpath-python-1.0.6 morph-kgc-2.6.4 pandas-2.1.3 pyoxigraph-0.3.22 rdflib-7.0.0 ruamel-yaml-0.18.0 ruamel.yaml.clib-0.2.8 sql-metadata-2.10.0 tzdata-2023.3\n"
          ]
        }
      ],
      "source": [
        "!pip install morph-kgc"
      ]
    },
    {
      "cell_type": "code",
      "execution_count": 2,
      "metadata": {
        "id": "-8y_L4Vfo7ku"
      },
      "outputs": [],
      "source": [
        "import morph_kgc"
      ]
    },
    {
      "cell_type": "code",
      "source": [
        "from google.colab import drive\n",
        "drive.mount('/content/drive')"
      ],
      "metadata": {
        "colab": {
          "base_uri": "https://localhost:8080/"
        },
        "id": "jfND5axi2H7z",
        "outputId": "a1e2e920-4d72-403e-e28f-67bb10748a27"
      },
      "execution_count": 3,
      "outputs": [
        {
          "output_type": "stream",
          "name": "stdout",
          "text": [
            "Mounted at /content/drive\n"
          ]
        }
      ]
    },
    {
      "cell_type": "code",
      "source": [
        "config1=\"\"\"\n",
        "          [/content/drive/MyDrive/hands_on_mapping/parking-paris-updated-with-links.csv]\n",
        "          mappings: /content/drive/MyDrive/hands_on_mapping/mapeo_parking_with_links.rml.ttl\n",
        "       \"\"\"\n",
        "config2=\"\"\"\n",
        "          [/content/drive/MyDrive/hands_on_mapping/adresse-paris-updated-with-links.csv]\n",
        "          mappings: /content/drive/MyDrive/hands_on_mapping/mapeo_streets_with_links.rml.ttl\n",
        "       \"\"\""
      ],
      "metadata": {
        "id": "kAmu8T7N2IKU"
      },
      "execution_count": 4,
      "outputs": []
    },
    {
      "cell_type": "code",
      "execution_count": 5,
      "metadata": {
        "id": "d6R2ix2BtQnu",
        "colab": {
          "base_uri": "https://localhost:8080/"
        },
        "outputId": "afb6717c-9cfa-44e4-a3f8-805d5ef7256c"
      },
      "outputs": [
        {
          "output_type": "stream",
          "name": "stderr",
          "text": [
            "/usr/local/lib/python3.10/dist-packages/morph_kgc/mapping/mapping_parser.py:390: FutureWarning: DataFrame.applymap has been deprecated. Use DataFrame.map instead.\n",
            "  fnml_df = fnml_df.applymap(str)\n",
            "/usr/local/lib/python3.10/dist-packages/morph_kgc/mapping/mapping_partitioner.py:182: FutureWarning: Series.__getitem__ treating keys as positions is deprecated. In a future version, integer keys will always be treated as labels (consistent with DataFrame behavior). To access a value by position, use `ser.iloc[pos]`\n",
            "  f\"{self.rml_df['mapping_partition'].value_counts()[0]}.\")\n",
            "/usr/local/lib/python3.10/dist-packages/morph_kgc/materializer.py:36: FutureWarning: DataFrame.applymap has been deprecated. Use DataFrame.map instead.\n",
            "  data = data.applymap(str)\n",
            "/usr/local/lib/python3.10/dist-packages/morph_kgc/materializer.py:36: FutureWarning: DataFrame.applymap has been deprecated. Use DataFrame.map instead.\n",
            "  data = data.applymap(str)\n",
            "/usr/local/lib/python3.10/dist-packages/morph_kgc/materializer.py:36: FutureWarning: DataFrame.applymap has been deprecated. Use DataFrame.map instead.\n",
            "  data = data.applymap(str)\n",
            "/usr/local/lib/python3.10/dist-packages/morph_kgc/materializer.py:36: FutureWarning: DataFrame.applymap has been deprecated. Use DataFrame.map instead.\n",
            "  data = data.applymap(str)\n",
            "/usr/local/lib/python3.10/dist-packages/morph_kgc/materializer.py:36: FutureWarning: DataFrame.applymap has been deprecated. Use DataFrame.map instead.\n",
            "  data = data.applymap(str)\n",
            "/usr/local/lib/python3.10/dist-packages/morph_kgc/materializer.py:36: FutureWarning: DataFrame.applymap has been deprecated. Use DataFrame.map instead.\n",
            "  data = data.applymap(str)\n",
            "/usr/local/lib/python3.10/dist-packages/morph_kgc/materializer.py:36: FutureWarning: DataFrame.applymap has been deprecated. Use DataFrame.map instead.\n",
            "  data = data.applymap(str)\n",
            "/usr/local/lib/python3.10/dist-packages/morph_kgc/materializer.py:36: FutureWarning: DataFrame.applymap has been deprecated. Use DataFrame.map instead.\n",
            "  data = data.applymap(str)\n",
            "/usr/local/lib/python3.10/dist-packages/morph_kgc/materializer.py:36: FutureWarning: DataFrame.applymap has been deprecated. Use DataFrame.map instead.\n",
            "  data = data.applymap(str)\n",
            "/usr/local/lib/python3.10/dist-packages/morph_kgc/materializer.py:36: FutureWarning: DataFrame.applymap has been deprecated. Use DataFrame.map instead.\n",
            "  data = data.applymap(str)\n",
            "/usr/local/lib/python3.10/dist-packages/morph_kgc/materializer.py:36: FutureWarning: DataFrame.applymap has been deprecated. Use DataFrame.map instead.\n",
            "  data = data.applymap(str)\n",
            "/usr/local/lib/python3.10/dist-packages/morph_kgc/materializer.py:36: FutureWarning: DataFrame.applymap has been deprecated. Use DataFrame.map instead.\n",
            "  data = data.applymap(str)\n",
            "/usr/local/lib/python3.10/dist-packages/morph_kgc/materializer.py:36: FutureWarning: DataFrame.applymap has been deprecated. Use DataFrame.map instead.\n",
            "  data = data.applymap(str)\n",
            "/usr/local/lib/python3.10/dist-packages/morph_kgc/materializer.py:36: FutureWarning: DataFrame.applymap has been deprecated. Use DataFrame.map instead.\n",
            "  data = data.applymap(str)\n",
            "/usr/local/lib/python3.10/dist-packages/morph_kgc/materializer.py:36: FutureWarning: DataFrame.applymap has been deprecated. Use DataFrame.map instead.\n",
            "  data = data.applymap(str)\n",
            "/usr/local/lib/python3.10/dist-packages/morph_kgc/materializer.py:36: FutureWarning: DataFrame.applymap has been deprecated. Use DataFrame.map instead.\n",
            "  data = data.applymap(str)\n",
            "/usr/local/lib/python3.10/dist-packages/morph_kgc/materializer.py:36: FutureWarning: DataFrame.applymap has been deprecated. Use DataFrame.map instead.\n",
            "  data = data.applymap(str)\n",
            "/usr/local/lib/python3.10/dist-packages/morph_kgc/materializer.py:36: FutureWarning: DataFrame.applymap has been deprecated. Use DataFrame.map instead.\n",
            "  data = data.applymap(str)\n",
            "/usr/local/lib/python3.10/dist-packages/morph_kgc/materializer.py:36: FutureWarning: DataFrame.applymap has been deprecated. Use DataFrame.map instead.\n",
            "  data = data.applymap(str)\n",
            "/usr/local/lib/python3.10/dist-packages/morph_kgc/materializer.py:36: FutureWarning: DataFrame.applymap has been deprecated. Use DataFrame.map instead.\n",
            "  data = data.applymap(str)\n",
            "/usr/local/lib/python3.10/dist-packages/morph_kgc/materializer.py:36: FutureWarning: DataFrame.applymap has been deprecated. Use DataFrame.map instead.\n",
            "  data = data.applymap(str)\n",
            "/usr/local/lib/python3.10/dist-packages/morph_kgc/materializer.py:36: FutureWarning: DataFrame.applymap has been deprecated. Use DataFrame.map instead.\n",
            "  data = data.applymap(str)\n",
            "/usr/local/lib/python3.10/dist-packages/morph_kgc/materializer.py:36: FutureWarning: DataFrame.applymap has been deprecated. Use DataFrame.map instead.\n",
            "  data = data.applymap(str)\n",
            "/usr/local/lib/python3.10/dist-packages/morph_kgc/materializer.py:36: FutureWarning: DataFrame.applymap has been deprecated. Use DataFrame.map instead.\n",
            "  data = data.applymap(str)\n",
            "/usr/local/lib/python3.10/dist-packages/morph_kgc/materializer.py:36: FutureWarning: DataFrame.applymap has been deprecated. Use DataFrame.map instead.\n",
            "  data = data.applymap(str)\n",
            "/usr/local/lib/python3.10/dist-packages/morph_kgc/materializer.py:36: FutureWarning: DataFrame.applymap has been deprecated. Use DataFrame.map instead.\n",
            "  data = data.applymap(str)\n",
            "/usr/local/lib/python3.10/dist-packages/morph_kgc/materializer.py:36: FutureWarning: DataFrame.applymap has been deprecated. Use DataFrame.map instead.\n",
            "  data = data.applymap(str)\n",
            "/usr/local/lib/python3.10/dist-packages/morph_kgc/materializer.py:36: FutureWarning: DataFrame.applymap has been deprecated. Use DataFrame.map instead.\n",
            "  data = data.applymap(str)\n",
            "/usr/local/lib/python3.10/dist-packages/morph_kgc/materializer.py:36: FutureWarning: DataFrame.applymap has been deprecated. Use DataFrame.map instead.\n",
            "  data = data.applymap(str)\n",
            "/usr/local/lib/python3.10/dist-packages/morph_kgc/materializer.py:36: FutureWarning: DataFrame.applymap has been deprecated. Use DataFrame.map instead.\n",
            "  data = data.applymap(str)\n",
            "/usr/local/lib/python3.10/dist-packages/morph_kgc/materializer.py:36: FutureWarning: DataFrame.applymap has been deprecated. Use DataFrame.map instead.\n",
            "  data = data.applymap(str)\n",
            "/usr/local/lib/python3.10/dist-packages/morph_kgc/materializer.py:36: FutureWarning: DataFrame.applymap has been deprecated. Use DataFrame.map instead.\n",
            "  data = data.applymap(str)\n",
            "/usr/local/lib/python3.10/dist-packages/morph_kgc/materializer.py:36: FutureWarning: DataFrame.applymap has been deprecated. Use DataFrame.map instead.\n",
            "  data = data.applymap(str)\n",
            "/usr/local/lib/python3.10/dist-packages/morph_kgc/materializer.py:36: FutureWarning: DataFrame.applymap has been deprecated. Use DataFrame.map instead.\n",
            "  data = data.applymap(str)\n",
            "/usr/local/lib/python3.10/dist-packages/morph_kgc/materializer.py:36: FutureWarning: DataFrame.applymap has been deprecated. Use DataFrame.map instead.\n",
            "  data = data.applymap(str)\n",
            "/usr/local/lib/python3.10/dist-packages/morph_kgc/materializer.py:36: FutureWarning: DataFrame.applymap has been deprecated. Use DataFrame.map instead.\n",
            "  data = data.applymap(str)\n",
            "/usr/local/lib/python3.10/dist-packages/morph_kgc/materializer.py:36: FutureWarning: DataFrame.applymap has been deprecated. Use DataFrame.map instead.\n",
            "  data = data.applymap(str)\n",
            "/usr/local/lib/python3.10/dist-packages/morph_kgc/materializer.py:36: FutureWarning: DataFrame.applymap has been deprecated. Use DataFrame.map instead.\n",
            "  data = data.applymap(str)\n",
            "/usr/local/lib/python3.10/dist-packages/morph_kgc/materializer.py:36: FutureWarning: DataFrame.applymap has been deprecated. Use DataFrame.map instead.\n",
            "  data = data.applymap(str)\n",
            "/usr/local/lib/python3.10/dist-packages/morph_kgc/materializer.py:36: FutureWarning: DataFrame.applymap has been deprecated. Use DataFrame.map instead.\n",
            "  data = data.applymap(str)\n",
            "/usr/local/lib/python3.10/dist-packages/morph_kgc/materializer.py:36: FutureWarning: DataFrame.applymap has been deprecated. Use DataFrame.map instead.\n",
            "  data = data.applymap(str)\n",
            "/usr/local/lib/python3.10/dist-packages/morph_kgc/materializer.py:36: FutureWarning: DataFrame.applymap has been deprecated. Use DataFrame.map instead.\n",
            "  data = data.applymap(str)\n",
            "/usr/local/lib/python3.10/dist-packages/morph_kgc/materializer.py:36: FutureWarning: DataFrame.applymap has been deprecated. Use DataFrame.map instead.\n",
            "  data = data.applymap(str)\n",
            "/usr/local/lib/python3.10/dist-packages/morph_kgc/materializer.py:36: FutureWarning: DataFrame.applymap has been deprecated. Use DataFrame.map instead.\n",
            "  data = data.applymap(str)\n",
            "/usr/local/lib/python3.10/dist-packages/morph_kgc/materializer.py:36: FutureWarning: DataFrame.applymap has been deprecated. Use DataFrame.map instead.\n",
            "  data = data.applymap(str)\n",
            "/usr/local/lib/python3.10/dist-packages/morph_kgc/materializer.py:36: FutureWarning: DataFrame.applymap has been deprecated. Use DataFrame.map instead.\n",
            "  data = data.applymap(str)\n",
            "/usr/local/lib/python3.10/dist-packages/morph_kgc/materializer.py:36: FutureWarning: DataFrame.applymap has been deprecated. Use DataFrame.map instead.\n",
            "  data = data.applymap(str)\n",
            "/usr/local/lib/python3.10/dist-packages/morph_kgc/materializer.py:36: FutureWarning: DataFrame.applymap has been deprecated. Use DataFrame.map instead.\n",
            "  data = data.applymap(str)\n",
            "/usr/local/lib/python3.10/dist-packages/morph_kgc/materializer.py:36: FutureWarning: DataFrame.applymap has been deprecated. Use DataFrame.map instead.\n",
            "  data = data.applymap(str)\n",
            "/usr/local/lib/python3.10/dist-packages/morph_kgc/mapping/mapping_parser.py:390: FutureWarning: DataFrame.applymap has been deprecated. Use DataFrame.map instead.\n",
            "  fnml_df = fnml_df.applymap(str)\n",
            "/usr/local/lib/python3.10/dist-packages/morph_kgc/mapping/mapping_partitioner.py:182: FutureWarning: Series.__getitem__ treating keys as positions is deprecated. In a future version, integer keys will always be treated as labels (consistent with DataFrame behavior). To access a value by position, use `ser.iloc[pos]`\n",
            "  f\"{self.rml_df['mapping_partition'].value_counts()[0]}.\")\n",
            "/usr/local/lib/python3.10/dist-packages/morph_kgc/materializer.py:36: FutureWarning: DataFrame.applymap has been deprecated. Use DataFrame.map instead.\n",
            "  data = data.applymap(str)\n",
            "/usr/local/lib/python3.10/dist-packages/morph_kgc/materializer.py:36: FutureWarning: DataFrame.applymap has been deprecated. Use DataFrame.map instead.\n",
            "  data = data.applymap(str)\n",
            "/usr/local/lib/python3.10/dist-packages/morph_kgc/materializer.py:36: FutureWarning: DataFrame.applymap has been deprecated. Use DataFrame.map instead.\n",
            "  data = data.applymap(str)\n",
            "/usr/local/lib/python3.10/dist-packages/morph_kgc/materializer.py:36: FutureWarning: DataFrame.applymap has been deprecated. Use DataFrame.map instead.\n",
            "  data = data.applymap(str)\n",
            "/usr/local/lib/python3.10/dist-packages/morph_kgc/materializer.py:36: FutureWarning: DataFrame.applymap has been deprecated. Use DataFrame.map instead.\n",
            "  data = data.applymap(str)\n",
            "/usr/local/lib/python3.10/dist-packages/morph_kgc/materializer.py:36: FutureWarning: DataFrame.applymap has been deprecated. Use DataFrame.map instead.\n",
            "  data = data.applymap(str)\n",
            "/usr/local/lib/python3.10/dist-packages/morph_kgc/materializer.py:36: FutureWarning: DataFrame.applymap has been deprecated. Use DataFrame.map instead.\n",
            "  data = data.applymap(str)\n",
            "/usr/local/lib/python3.10/dist-packages/morph_kgc/materializer.py:36: FutureWarning: DataFrame.applymap has been deprecated. Use DataFrame.map instead.\n",
            "  data = data.applymap(str)\n",
            "/usr/local/lib/python3.10/dist-packages/morph_kgc/materializer.py:36: FutureWarning: DataFrame.applymap has been deprecated. Use DataFrame.map instead.\n",
            "  data = data.applymap(str)\n"
          ]
        }
      ],
      "source": [
        "g1 = morph_kgc.materialize(config1)\n",
        "g2 = morph_kgc.materialize(config2)\n",
        "g = g1 +g2"
      ]
    },
    {
      "cell_type": "code",
      "source": [
        "v1 = g1.serialize(destination='/content/drive/MyDrive/hands_on_mapping/parkings_with_linksRDF.ttl', format=\"ttl\")\n",
        "v2 = g2.serialize(destination='/content/drive/MyDrive/hands_on_mapping/streets_with_linksRDF.ttl', format=\"ttl\")\n",
        "v = g.serialize(destination='/content/drive/MyDrive/hands_on_mapping/combined_with_linksRDF.ttl', format=\"ttl\")\n",
        "v"
      ],
      "metadata": {
        "colab": {
          "base_uri": "https://localhost:8080/"
        },
        "id": "A9RJeRpb2ISb",
        "outputId": "c43a2c4c-df34-4502-9db8-a5cb0d6bd6cf"
      },
      "execution_count": 6,
      "outputs": [
        {
          "output_type": "execute_result",
          "data": {
            "text/plain": [
              "<Graph identifier=N8a7bc9e6f663403d8dac59e5932c1ee5 (<class 'rdflib.graph.Graph'>)>"
            ]
          },
          "metadata": {},
          "execution_count": 6
        }
      ]
    },
    {
      "cell_type": "markdown",
      "source": [
        "# QUERYS\n",
        "\n"
      ],
      "metadata": {
        "id": "gTXXseoI2zVy"
      }
    },
    {
      "cell_type": "code",
      "source": [
        "from rdflib import Graph, Namespace, RDF, RDFS\n",
        "from rdflib.plugins.sparql import prepareQuery\n",
        "\n",
        "ns = Namespace(\"http://paris.linkeddata.es/info/resource/parkings#\")\n",
        "ns2 = Namespace('http://paris.linkeddata.es/info/resource/streets#')\n",
        "\n",
        "geo = Namespace(\"http://www.w3.org/2003/01/geo/wgs84_pos#\")"
      ],
      "metadata": {
        "id": "EeAeFzEN3EPi"
      },
      "execution_count": 7,
      "outputs": []
    },
    {
      "cell_type": "markdown",
      "source": [
        "### 1. DADO UN DISTRITO DE WIKIDATA, DEVOLVER EL NOMBRE DEL PARKING Y SUS COORDENADAS"
      ],
      "metadata": {
        "id": "W-xL5wYjQ_XO"
      }
    },
    {
      "cell_type": "code",
      "source": [
        "q1 = prepareQuery('''\n",
        "    SELECT ?name ?lat ?lon\n",
        "    WHERE {\n",
        "      ?parking a ns:Parking;\n",
        "              ns:isinDistrict ?d;\n",
        "              ns:hasName ?name;\n",
        "              ns:hasGeoPoint ?point.\n",
        "      ?d owl:sameAs <https://wikidata.org/entity/Q171689>.\n",
        "      ?point geo:lat ?lat;\n",
        "              geo:long ?lon.\n",
        "\n",
        "\n",
        "    }\n",
        "''',\n",
        "initNs={\"ns\": ns, 'geo':geo})\n",
        "\n",
        "for s in g.query(q1):\n",
        "    print(f'-{s.name}:   ({s.lat}, {s.lon})\\n')"
      ],
      "metadata": {
        "colab": {
          "base_uri": "https://localhost:8080/"
        },
        "id": "_UWgyycCQ05S",
        "outputId": "341cd543-eb6d-4802-ecc0-c217056680b6"
      },
      "execution_count": 8,
      "outputs": [
        {
          "output_type": "stream",
          "name": "stdout",
          "text": [
            "-HECTOR MALOT:   (237.633.192, 4.884.690.131)\n",
            "\n",
            "-MARIGNY CHATEAU:   (243.953.727, 4.884.535.357)\n",
            "\n",
            "-BERCY RELAIS MERCURE:   (238.153.136, 4.883.817.784)\n",
            "\n",
            "-FAUBOURG SAINT ANTOINE:   (237.556.129, 4.885.084.205)\n",
            "\n",
            "-MEDITERRANEE:   (237.574.679, 4.884.497.657)\n",
            "\n",
            "-REUILLY DIDEROT:   (238.725.815, 4.884.654.591)\n",
            "\n",
            "-PICPUS NATION:   (239.914.441, 4.884.715.454)\n",
            "\n",
            "-BERCY SEINE VEHICULES LEGERS:   (238.083.038, 4.883.505.677)\n",
            "\n",
            "-BASTILLE:   (236.818.245, 4.884.948.604)\n",
            "\n",
            "-VELOSTATION VAN GOGH:   (237.125.675, 4.884.369.509)\n",
            "\n",
            "-VAN GOGH:   (237.185.347, 4.884.467.523)\n",
            "\n",
            "-LYON DIDEROT:   (237.216.992, 4.884.468.165)\n",
            "\n"
          ]
        }
      ]
    },
    {
      "cell_type": "markdown",
      "source": [
        "### 2. DADO UN TELÉFONO DE CONTACTO DE UN PARKING. HALLAR EL LINK DE WIKIDATA DEL DISTRITO EN EL QUE SE ENCUENTRA, Y EL NOMBRE DEL PARKING"
      ],
      "metadata": {
        "id": "mt8r1llWRFKm"
      }
    },
    {
      "cell_type": "code",
      "source": [
        "q2 = prepareQuery('''\n",
        "    SELECT ?d_wiki ?name\n",
        "    WHERE {\n",
        "      ?parking a ns:Parking;\n",
        "              ns:hasName ?name;\n",
        "              ns:isinDistrict ?d;\n",
        "              ns:canBeContactedWith ?c.\n",
        "      ?c ns:hasPhoneNumber 142365737.\n",
        "      ?d owl:sameAs ?d_wiki.\n",
        "    }\n",
        "''',\n",
        "initNs={\"ns\": ns})\n",
        "\n",
        "for s in g.query(q2):\n",
        "  print(f'Parking: {s[\"name\"]}\\n  District: {s[\"d_wiki\"]}')"
      ],
      "metadata": {
        "colab": {
          "base_uri": "https://localhost:8080/"
        },
        "id": "QoerW3ccQ1DT",
        "outputId": "9a0894ae-21a0-4368-ff79-289e55d680ed"
      },
      "execution_count": 9,
      "outputs": [
        {
          "output_type": "stream",
          "name": "stdout",
          "text": [
            "Parking: LES HALLES ST EUSTACHE\n",
            "  District: https://wikidata.org/entity/Q161741\n"
          ]
        }
      ]
    },
    {
      "cell_type": "markdown",
      "source": [
        "### 3. DADO UN DISTRITO, DEVOLVER TODOS LOS PARKINGS CON SUBSRATE QUE SE ENCUENTREN EN ÉL, Y LAS TARIFAS MENSUALES DE TODOS LOS TIPOS DE VEHÍCULO QUE PRESENTAN"
      ],
      "metadata": {
        "id": "Unqmzx3vRQRa"
      }
    },
    {
      "cell_type": "code",
      "source": [
        "q3 = prepareQuery('''\n",
        "    SELECT ?parking ?carTariff ?motoTariff ?PRMTariff ?electricTariff ?biciTariff\n",
        "    WHERE {\n",
        "      ?parking ns:hasSubsRate ?rate;\n",
        "              ns:isinDistrict ?d.\n",
        "      ?d owl:sameAs <https://wikidata.org/entity/Q270230>.\n",
        "      ?rate ns:hasMonthlySubsCarRate ?carTariff;\n",
        "            ns:hasMonthlySubsMotoRate ?motoTariff;\n",
        "            ns:hasMonthlySubsPRMRate ?PRMTariff;\n",
        "            ns:hasMonthlySubsElectricRate ?electricTariff;\n",
        "            ns:hasMonthlySubsBiciRate ?biciTariff.\n",
        "    FILTER (?carTariff > 0 && ?motoTariff > 0 && ?PRMTariff > 0\n",
        "                  && ?electricTariff > 0 && ?biciTariff > 0)\n",
        "    }\n",
        "  ''',\n",
        "  initNs = {\"ns\": ns}\n",
        ")\n",
        "\n",
        "for s in g.query(q3):\n",
        "    print(f'Parking: {s[\"parking\"]}')\n",
        "    print(f'  Monthly Subs Car Tariff: {s[\"carTariff\"]}')\n",
        "    print(f'  Monthly Subs Moto Tariff: {s[\"motoTariff\"]}')\n",
        "    print(f'  Monthly Subs PRM Tariff: {s[\"PRMTariff\"]}')\n",
        "    print(f'  Monthly Subs Electric Tariff: {s[\"electricTariff\"]}')\n",
        "    print(f'  Monthly Subs Bici Tariff: {s[\"biciTariff\"]}\\n')\n"
      ],
      "metadata": {
        "colab": {
          "base_uri": "https://localhost:8080/"
        },
        "id": "x3fL4atRQ1cL",
        "outputId": "acc59fc8-773e-424a-a108-b8b1d1635439"
      },
      "execution_count": 11,
      "outputs": [
        {
          "output_type": "stream",
          "name": "stdout",
          "text": [
            "Parking: http://paris.linkeddata.es/info/resource/Parking/75108-P-125\n",
            "  Monthly Subs Car Tariff: 304.0\n",
            "  Monthly Subs Moto Tariff: 106.0\n",
            "  Monthly Subs PRM Tariff: 152.0\n",
            "  Monthly Subs Electric Tariff: 152.0\n",
            "  Monthly Subs Bici Tariff: 10.0\n",
            "\n",
            "Parking: http://paris.linkeddata.es/info/resource/Parking/75108-P-054\n",
            "  Monthly Subs Car Tariff: 300.0\n",
            "  Monthly Subs Moto Tariff: 105.0\n",
            "  Monthly Subs PRM Tariff: 150.0\n",
            "  Monthly Subs Electric Tariff: 150.0\n",
            "  Monthly Subs Bici Tariff: 10.0\n",
            "\n",
            "Parking: http://paris.linkeddata.es/info/resource/Parking/75108-P-030\n",
            "  Monthly Subs Car Tariff: 293.0\n",
            "  Monthly Subs Moto Tariff: 102.0\n",
            "  Monthly Subs PRM Tariff: 146.0\n",
            "  Monthly Subs Electric Tariff: 205.1\n",
            "  Monthly Subs Bici Tariff: 12.0\n",
            "\n",
            "Parking: http://paris.linkeddata.es/info/resource/Parking/75108-P-061\n",
            "  Monthly Subs Car Tariff: 281.0\n",
            "  Monthly Subs Moto Tariff: 98.0\n",
            "  Monthly Subs PRM Tariff: 140.0\n",
            "  Monthly Subs Electric Tariff: 140.0\n",
            "  Monthly Subs Bici Tariff: 10.0\n",
            "\n",
            "Parking: http://paris.linkeddata.es/info/resource/Parking/75108-P-020\n",
            "  Monthly Subs Car Tariff: 270.0\n",
            "  Monthly Subs Moto Tariff: 94.0\n",
            "  Monthly Subs PRM Tariff: 135.0\n",
            "  Monthly Subs Electric Tariff: 135.0\n",
            "  Monthly Subs Bici Tariff: 10.0\n",
            "\n",
            "Parking: http://paris.linkeddata.es/info/resource/Parking/75108-P-024\n",
            "  Monthly Subs Car Tariff: 249.0\n",
            "  Monthly Subs Moto Tariff: 87.0\n",
            "  Monthly Subs PRM Tariff: 124.0\n",
            "  Monthly Subs Electric Tariff: 124.0\n",
            "  Monthly Subs Bici Tariff: 10.0\n",
            "\n",
            "Parking: http://paris.linkeddata.es/info/resource/Parking/75108-P-031\n",
            "  Monthly Subs Car Tariff: 257.0\n",
            "  Monthly Subs Moto Tariff: 89.0\n",
            "  Monthly Subs PRM Tariff: 128.0\n",
            "  Monthly Subs Electric Tariff: 128.0\n",
            "  Monthly Subs Bici Tariff: 12.0\n",
            "\n",
            "Parking: http://paris.linkeddata.es/info/resource/Parking/75108-P-002\n",
            "  Monthly Subs Car Tariff: 313.0\n",
            "  Monthly Subs Moto Tariff: 109.0\n",
            "  Monthly Subs PRM Tariff: 156.5\n",
            "  Monthly Subs Electric Tariff: 156.5\n",
            "  Monthly Subs Bici Tariff: 10.0\n",
            "\n",
            "Parking: http://paris.linkeddata.es/info/resource/Parking/75108-P-014\n",
            "  Monthly Subs Car Tariff: 293.0\n",
            "  Monthly Subs Moto Tariff: 102.0\n",
            "  Monthly Subs PRM Tariff: 146.0\n",
            "  Monthly Subs Electric Tariff: 205.1\n",
            "  Monthly Subs Bici Tariff: 12.0\n",
            "\n"
          ]
        }
      ]
    }
  ]
}