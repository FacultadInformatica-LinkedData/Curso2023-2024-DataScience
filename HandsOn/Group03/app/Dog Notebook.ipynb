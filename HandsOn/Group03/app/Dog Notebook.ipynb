{
 "cells": [
  {
   "cell_type": "code",
   "execution_count": 1,
   "metadata": {},
   "outputs": [
    {
     "data": {
      "text/plain": [
       "<Graph identifier=N118123d2bdf748bfa87c5b34610d8c9a (<class 'rdflib.graph.Graph'>)>"
      ]
     },
     "execution_count": 1,
     "metadata": {},
     "output_type": "execute_result"
    }
   ],
   "source": [
    "# * IMPORTS\n",
    "import os\n",
    "import threading\n",
    "import time\n",
    "from datetime import datetime, time\n",
    "from ipywidgets import widgets\n",
    "from functools import partial\n",
    "from config import StyleConfig\n",
    "from IPython.display import display, clear_output, HTML\n",
    "# from visuals.map_manager import createBaseMap\n",
    "from visuals.gui_manager import reset_cbox, get_barrio_names\n",
    "\n",
    "\n",
    "import random\n",
    "from rdflib import Graph, Namespace, Literal\n",
    "from rdflib.namespace import RDF, RDFS\n",
    "from rdflib.plugins.sparql import prepareQuery\n",
    "\n",
    "dict_namespaces = {\n",
    "    \"rr\": Namespace(\"http://www.w3.org/ns/r2rml#\"),\n",
    "    \"rml\": Namespace(\"http://semweb.mmlab.be/ns/ql#\"),\n",
    "    \"ql\": Namespace(\"http://vocab.org/transit/terms/\"),\n",
    "    \"transit\": Namespace(\"http://www.w3.org/2001/XMLSchema#\"),\n",
    "    \"wgs84_pos\": Namespace(\"http://www.w3.org/2003/01/geo/wgs84_pos#\"),\n",
    "    \"vocab\": Namespace(\"http://example.org#\"),\n",
    "    \"dog-loc\": Namespace(\"https://w3id.org/DogFriendlyMadrid/info/ontology/location#\"),\n",
    "    \"dog-det\": Namespace(\"https://w3id.org/DogFriendlyMadrid/info/ontology/details#\"),\n",
    "    \"dog-ser\": Namespace(\"https://w3id.org/DogFriendlyMadrid/info/ontology/services#\"),\n",
    "    \"schema-org\": Namespace(\"http://schema.org/\"),\n",
    "    \"dbo\": Namespace(\"https://dbpedia.org/ontology/\"),\n",
    "    \"rdfs\": Namespace(\"http://www.w3.org/2000/01/rdf-schema#\"),\n",
    "    \"rdf\": Namespace(\"http://www.w3.org/1999/02/22-rdf-syntax-ns#\"),\n",
    "    \"owl\": Namespace(\"http://www.w3.org/2002/07/owl#\")\n",
    "}\n",
    "\n",
    "graph_Parks = Graph()\n",
    "graph_CareCenter = Graph()\n",
    "graph_DogGarbage = Graph()\n",
    "graph_DogZone = Graph()\n",
    "graph_Fountain = Graph()\n",
    "\n",
    "for shortcut, new_namespace in dict_namespaces.items():\n",
    "    graph_Parks.namespace_manager.bind(shortcut, new_namespace, override=False)\n",
    "for shortcut, new_namespace in dict_namespaces.items():\n",
    "    graph_CareCenter.namespace_manager.bind(shortcut, new_namespace, override=False)\n",
    "for shortcut, new_namespace in dict_namespaces.items():\n",
    "    graph_DogGarbage.namespace_manager.bind(shortcut, new_namespace, override=False)\n",
    "for shortcut, new_namespace in dict_namespaces.items():\n",
    "    graph_DogZone.namespace_manager.bind(shortcut, new_namespace, override=False)\n",
    "for shortcut, new_namespace in dict_namespaces.items():\n",
    "    graph_Fountain.namespace_manager.bind(shortcut, new_namespace, override=False)\n",
    "\n",
    "graph_Parks.parse(\"./Parks-with-links.nt\", format=\"nt\")\n",
    "graph_CareCenter.parse(\"./CareCenters-with-links.nt\", format=\"nt\")\n",
    "graph_DogGarbage.parse(\"./DogGarbageBins-with-links.nt\", format=\"nt\")\n",
    "graph_DogZone.parse(\"./DogZones-with-links.nt\", format=\"nt\")\n",
    "graph_Fountain.parse(\"./FuentesMascotas-with-links_data.nt\", format=\"nt\")"
   ]
  },
  {
   "cell_type": "code",
   "execution_count": 2,
   "metadata": {},
   "outputs": [],
   "source": [
    "# we check if we run in a notebook or a voila app\n",
    "# we will not display the map by default if in a voila app\n",
    "running_in_voila = os.environ.get('SERVER_SOFTWARE','jupyter').startswith('voila')\n"
   ]
  },
  {
   "cell_type": "code",
   "execution_count": 4,
   "metadata": {},
   "outputs": [
    {
     "ename": "IndentationError",
     "evalue": "unindent does not match any outer indentation level (<tokenize>, line 57)",
     "output_type": "error",
     "traceback": [
      "\u001b[1;36m  File \u001b[1;32m<tokenize>:57\u001b[1;36m\u001b[0m\n\u001b[1;33m    print(change[\"new\"])\u001b[0m\n\u001b[1;37m    ^\u001b[0m\n\u001b[1;31mIndentationError\u001b[0m\u001b[1;31m:\u001b[0m unindent does not match any outer indentation level\n"
     ]
    }
   ],
   "source": [
    "# * WIDGETS\n",
    "\n",
    "# header image\n",
    "\n",
    "with open(\"./images/hero_cropped.jpg\", 'rb') as file:\n",
    "        image = file.read()\n",
    "\n",
    "header_img = widgets.Image(\n",
    "    value=image,\n",
    "    format='jpg',\n",
    ")\n",
    "header_img.layout.height = '200px'\n",
    "\n",
    "hbox_image = widgets.HBox([widgets.Label(), header_img, widgets.Label()], \n",
    "                          layout=widgets.Layout(justify_content='center'))\n",
    "\n",
    "btn_search = widgets.Button(\n",
    "    description = \"Busca\",\n",
    "    disabled = True,\n",
    "    tooltip = \"Busca DogCity\",\n",
    "    icon = \"search\"\n",
    ")\n",
    "# map button (only shown in Voila app)\n",
    "btn_map = widgets.Button(\n",
    "    description = \"Mostrar mapa\",\n",
    "    disabled = False,\n",
    "    tooltip = \"Mostrar Mapa\",\n",
    "    icon = \"map\"\n",
    ")\n",
    "# progress_bar\n",
    "progress_bar = widgets.IntProgress(\n",
    "    value=0,\n",
    "    min=0,\n",
    "    max=100,\n",
    "    description='Generating map:',\n",
    "    style={'bar_color': 'blue'},\n",
    "    orientation='horizontal'\n",
    ")\n",
    "\n",
    "\n",
    "\n",
    "# output for the map, so we can change it\n",
    "out_map = widgets.Output()\n",
    "\n",
    "barrio_data = get_barrio_names(graph_Parks, dict_namespaces)\n",
    "barrio_names = barrio_data[\"barrio_names\"]\n",
    "\n",
    "barrios = widgets.Combobox(\n",
    "    placeholder=\"Elige el barrio\",\n",
    "    options= barrio_names,\n",
    "    description=\"Elige tu barrio\",\n",
    "    ensure_option=True,\n",
    "    disabled=False\n",
    "    )\n",
    "def barrios_observable(change):\n",
    "    print(change)\n",
    "    print(change[\"new\"])\n",
    "    index = barrio_names.index(change[\"new\"])\n",
    "    print(index)\n",
    "\n",
    "# we set what to do when the checkbox changes\n",
    "barrios.observe(barrios_observable, names='value')\n",
    "\n",
    "journey_tab = widgets.VBox([widgets.Label(), barrios])\n",
    "# the tabs widget that starts with only one tab\n",
    "\n",
    "\n",
    "\n",
    "tabs = widgets.Tab(children=[journey_tab])\n",
    "tabs.set_title(0, 'Buscador')\n",
    "tabs.layout.justify_content = 'center'\n",
    "# placement of the tabs widget in the middle of the page\n",
    "hbox_tabs = widgets.HBox([widgets.Label(), tabs, widgets.Label()], layout=widgets.Layout(justify_content='center'))\n",
    "\n"
   ]
  },
  {
   "cell_type": "code",
   "execution_count": null,
   "metadata": {},
   "outputs": [
    {
     "data": {
      "text/html": [
       "\n",
       "                    <style>\n",
       "                    @import url('https://fonts.googleapis.com/css2?family=Karla:wght@400&display=swap');\n",
       "\n",
       "                    /* Set the default font for the entire document */\n",
       "                    body, button, input, select, textarea, label {\n",
       "                    font-family: 'Karla', sans-serif;\n",
       "                    }\n",
       "\n",
       "                    /* Increase the font size for h1 elements */\n",
       "                    h1 {\n",
       "                    font-size: 48px;\n",
       "                    }\n",
       "\n",
       "                    /* Material Design button styles */\n",
       "                    button.material-button {\n",
       "                    display: inline-block;\n",
       "                    padding: 10px 20px;\n",
       "                    font-size: 16px;\n",
       "                    text-align: center;\n",
       "                    text-decoration: none;\n",
       "                    outline: none;\n",
       "                    color: #fff;\n",
       "                    background-color: #2196F3;\n",
       "                    border: none;\n",
       "                    border-radius: 5px;\n",
       "                    box-shadow: 0 5px 15px rgba(33, 150, 243, 0.3);\n",
       "                    cursor: pointer;\n",
       "                    }\n",
       "\n",
       "                    button.material-button:hover {\n",
       "                    background-color: #1565C0;\n",
       "                    }\n",
       "\n",
       "                    button.material-button:active {\n",
       "                    background-color: #0D47A1;\n",
       "                    }\n",
       "\n",
       "                    /* Material Design text input styles */\n",
       "                    input.material-input {\n",
       "                    padding: 10px;\n",
       "                    font-size: 16px;\n",
       "                    border: 1px solid #ccc;\n",
       "                    border-radius: 5px;\n",
       "                    }\n",
       "\n",
       "                    input.material-input:focus {\n",
       "                    border-color: #2196F3;\n",
       "                    box-shadow: 0 0 5px rgba(33, 150, 243, 0.5);\n",
       "                    }\n",
       "\n",
       "                    /* Material Design Combobox styles */\n",
       "                    div.material-combobox {\n",
       "                    display: inline-block;\n",
       "                    position: relative;\n",
       "                    }\n",
       "\n",
       "                    div.material-combobox select {\n",
       "                    width: 100%;\n",
       "                    padding: 10px;\n",
       "                    font-size: 16px;\n",
       "                    border: 1px solid #ccc;\n",
       "                    border-radius: 5px;\n",
       "                    cursor: pointer;\n",
       "                    }\n",
       "\n",
       "                    div.material-combobox select:focus {\n",
       "                    border-color: #2196F3;\n",
       "                    box-shadow: 0 0 5px rgba(33, 150, 243, 0.5);\n",
       "                    }\n",
       "\n",
       "                    /* Material Design label styles */\n",
       "                    label.material-label {\n",
       "                    font-size: 16px;\n",
       "                    color: #2196F3;\n",
       "                    margin-bottom: 5px;\n",
       "                    }\n",
       "                    </style>\n",
       "                    "
      ],
      "text/plain": [
       "<IPython.core.display.HTML object>"
      ]
     },
     "metadata": {},
     "output_type": "display_data"
    },
    {
     "data": {
      "application/vnd.jupyter.widget-view+json": {
       "model_id": "59e93309b69947a5a4958bad08f7e2fc",
       "version_major": 2,
       "version_minor": 0
      },
      "text/plain": [
       "HBox(children=(Label(value=''), Image(value=b'\\xff\\xd8\\xff\\xe0\\x00\\x10JFIF\\x00\\x01\\x01\\x01\\x00`\\x00`\\x00\\x00\\x…"
      ]
     },
     "metadata": {},
     "output_type": "display_data"
    },
    {
     "data": {
      "application/vnd.jupyter.widget-view+json": {
       "model_id": "9816bb82767843519e386407b0ab71ca",
       "version_major": 2,
       "version_minor": 0
      },
      "text/plain": [
       "HBox(children=(Label(value=''), Tab(children=(VBox(children=(Label(value=''), Combobox(value='', description='…"
      ]
     },
     "metadata": {},
     "output_type": "display_data"
    },
    {
     "data": {
      "application/vnd.jupyter.widget-view+json": {
       "model_id": "783021c3d4d64959b3ea16d828d5603d",
       "version_major": 2,
       "version_minor": 0
      },
      "text/plain": [
       "Output()"
      ]
     },
     "metadata": {},
     "output_type": "display_data"
    }
   ],
   "source": [
    "# * MAIN DISPLAY\n",
    "\n",
    "display(HTML(StyleConfig.MATERIAL_CSS.value))\n",
    "display(hbox_image)\n",
    "\n",
    "display(hbox_tabs)\n",
    "display(out_map)\n",
    "\n",
    "\n",
    "\n",
    "\n",
    "def on_button_click_map(btn):\n",
    "    with out_map:\n",
    "        clear_output(wait=True)\n",
    "        display(initial_map)\n",
    "\n",
    "\n",
    "btn_map.on_click(on_button_click_map)\n"
   ]
  }
 ],
 "metadata": {
  "kernelspec": {
   "display_name": "Python 3 (ipykernel)",
   "language": "python",
   "name": "python3"
  },
  "language_info": {
   "codemirror_mode": {
    "name": "ipython",
    "version": 3
   },
   "file_extension": ".py",
   "mimetype": "text/x-python",
   "name": "python",
   "nbconvert_exporter": "python",
   "pygments_lexer": "ipython3",
   "version": "3.11.5"
  }
 },
 "nbformat": 4,
 "nbformat_minor": 4
}
