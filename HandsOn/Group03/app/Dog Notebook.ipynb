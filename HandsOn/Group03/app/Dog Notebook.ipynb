{
 "cells": [
  {
   "cell_type": "code",
   "execution_count": 1,
   "metadata": {},
   "outputs": [
    {
     "data": {
      "text/plain": [
       "<Graph identifier=N44603d238a1e4bfe9fce1f4618f87a00 (<class 'rdflib.graph.Graph'>)>"
      ]
     },
     "execution_count": 1,
     "metadata": {},
     "output_type": "execute_result"
    }
   ],
   "source": [
    "# * IMPORTS\n",
    "import os\n",
    "import threading\n",
    "import time\n",
    "from datetime import datetime, time\n",
    "from ipywidgets import widgets\n",
    "from functools import partial\n",
    "from config import StyleConfig\n",
    "from IPython.display import display, clear_output, HTML\n",
    "# from visuals.map_manager import createBaseMap\n",
    "from visuals.gui_manager import reset_cbox, get_barrio_names, get_wiki_data, get_center_address\n",
    "\n",
    "\n",
    "import random\n",
    "from rdflib import Graph, Namespace, Literal\n",
    "from rdflib.namespace import RDF, RDFS\n",
    "from rdflib.plugins.sparql import prepareQuery\n",
    "\n",
    "dict_namespaces = {\n",
    "    \"rr\": Namespace(\"http://www.w3.org/ns/r2rml#\"),\n",
    "    \"rml\": Namespace(\"http://semweb.mmlab.be/ns/ql#\"),\n",
    "    \"ql\": Namespace(\"http://vocab.org/transit/terms/\"),\n",
    "    \"transit\": Namespace(\"http://www.w3.org/2001/XMLSchema#\"),\n",
    "    \"wgs84_pos\": Namespace(\"http://www.w3.org/2003/01/geo/wgs84_pos#\"),\n",
    "    \"vocab\": Namespace(\"http://example.org#\"),\n",
    "    \"dog-loc\": Namespace(\"https://w3id.org/DogFriendlyMadrid/info/ontology/location#\"),\n",
    "    \"dog-det\": Namespace(\"https://w3id.org/DogFriendlyMadrid/info/ontology/details#\"),\n",
    "    \"dog-ser\": Namespace(\"https://w3id.org/DogFriendlyMadrid/info/ontology/services#\"),\n",
    "    \"schema-org\": Namespace(\"http://schema.org/\"),\n",
    "    \"dbo\": Namespace(\"https://dbpedia.org/ontology/\"),\n",
    "    \"rdfs\": Namespace(\"http://www.w3.org/2000/01/rdf-schema#\"),\n",
    "    \"rdf\": Namespace(\"http://www.w3.org/1999/02/22-rdf-syntax-ns#\"),\n",
    "    \"owl\": Namespace(\"http://www.w3.org/2002/07/owl#\")\n",
    "}\n",
    "\n",
    "graph_Parks = Graph()\n",
    "graph_CareCenter = Graph()\n",
    "graph_DogGarbage = Graph()\n",
    "graph_DogZone = Graph()\n",
    "graph_Fountain = Graph()\n",
    "\n",
    "for shortcut, new_namespace in dict_namespaces.items():\n",
    "    graph_Parks.namespace_manager.bind(shortcut, new_namespace, override=False)\n",
    "for shortcut, new_namespace in dict_namespaces.items():\n",
    "    graph_CareCenter.namespace_manager.bind(shortcut, new_namespace, override=False)\n",
    "for shortcut, new_namespace in dict_namespaces.items():\n",
    "    graph_DogGarbage.namespace_manager.bind(shortcut, new_namespace, override=False)\n",
    "for shortcut, new_namespace in dict_namespaces.items():\n",
    "    graph_DogZone.namespace_manager.bind(shortcut, new_namespace, override=False)\n",
    "for shortcut, new_namespace in dict_namespaces.items():\n",
    "    graph_Fountain.namespace_manager.bind(shortcut, new_namespace, override=False)\n",
    "\n",
    "graph_Parks.parse(\"./Parks-with-links.nt\", format=\"nt\")\n",
    "graph_CareCenter.parse(\"./CareCenters-with-links.nt\", format=\"nt\")\n",
    "graph_DogGarbage.parse(\"./DogGarbageBins-with-links.nt\", format=\"nt\")\n",
    "graph_DogZone.parse(\"./DogZones-with-links.nt\", format=\"nt\")\n",
    "graph_Fountain.parse(\"./FuentesMascotas-with-links_data.nt\", format=\"nt\")"
   ]
  },
  {
   "cell_type": "code",
   "execution_count": 2,
   "metadata": {},
   "outputs": [],
   "source": [
    "# we check if we run in a notebook or a voila app\n",
    "# we will not display the map by default if in a voila app\n",
    "running_in_voila = os.environ.get('SERVER_SOFTWARE','jupyter').startswith('voila')\n"
   ]
  },
  {
   "cell_type": "code",
   "execution_count": 3,
   "metadata": {},
   "outputs": [
    {
     "name": "stdout",
     "output_type": "stream",
     "text": [
      "https://wikidata.org/entity/Q31162\n"
     ]
    },
    {
     "ename": "IndexError",
     "evalue": "list index out of range",
     "output_type": "error",
     "traceback": [
      "\u001b[1;31m---------------------------------------------------------------------------\u001b[0m",
      "\u001b[1;31mIndexError\u001b[0m                                Traceback (most recent call last)",
      "File \u001b[1;32mc:\\Users\\Lapto\\anaconda3\\envs\\grupo-IA\\Lib\\site-packages\\ipywidgets\\widgets\\widget.py:773\u001b[0m, in \u001b[0;36mWidget._handle_msg\u001b[1;34m(self, msg)\u001b[0m\n\u001b[0;32m    771\u001b[0m         \u001b[38;5;28;01mif\u001b[39;00m \u001b[38;5;124m'\u001b[39m\u001b[38;5;124mbuffer_paths\u001b[39m\u001b[38;5;124m'\u001b[39m \u001b[38;5;129;01min\u001b[39;00m data:\n\u001b[0;32m    772\u001b[0m             _put_buffers(state, data[\u001b[38;5;124m'\u001b[39m\u001b[38;5;124mbuffer_paths\u001b[39m\u001b[38;5;124m'\u001b[39m], msg[\u001b[38;5;124m'\u001b[39m\u001b[38;5;124mbuffers\u001b[39m\u001b[38;5;124m'\u001b[39m])\n\u001b[1;32m--> 773\u001b[0m         \u001b[38;5;28mself\u001b[39m\u001b[38;5;241m.\u001b[39mset_state(state)\n\u001b[0;32m    775\u001b[0m \u001b[38;5;66;03m# Handle a state request.\u001b[39;00m\n\u001b[0;32m    776\u001b[0m \u001b[38;5;28;01melif\u001b[39;00m method \u001b[38;5;241m==\u001b[39m \u001b[38;5;124m'\u001b[39m\u001b[38;5;124mrequest_state\u001b[39m\u001b[38;5;124m'\u001b[39m:\n",
      "File \u001b[1;32mc:\\Users\\Lapto\\anaconda3\\envs\\grupo-IA\\Lib\\site-packages\\ipywidgets\\widgets\\widget.py:650\u001b[0m, in \u001b[0;36mWidget.set_state\u001b[1;34m(self, sync_data)\u001b[0m\n\u001b[0;32m    645\u001b[0m         \u001b[38;5;28mself\u001b[39m\u001b[38;5;241m.\u001b[39m_send(msg, buffers\u001b[38;5;241m=\u001b[39mecho_buffers)\n\u001b[0;32m    647\u001b[0m \u001b[38;5;66;03m# The order of these context managers is important. Properties must\u001b[39;00m\n\u001b[0;32m    648\u001b[0m \u001b[38;5;66;03m# be locked when the hold_trait_notification context manager is\u001b[39;00m\n\u001b[0;32m    649\u001b[0m \u001b[38;5;66;03m# released and notifications are fired.\u001b[39;00m\n\u001b[1;32m--> 650\u001b[0m \u001b[38;5;28;01mwith\u001b[39;00m \u001b[38;5;28mself\u001b[39m\u001b[38;5;241m.\u001b[39m_lock_property(\u001b[38;5;241m*\u001b[39m\u001b[38;5;241m*\u001b[39msync_data), \u001b[38;5;28mself\u001b[39m\u001b[38;5;241m.\u001b[39mhold_trait_notifications():\n\u001b[0;32m    651\u001b[0m     \u001b[38;5;28;01mfor\u001b[39;00m name \u001b[38;5;129;01min\u001b[39;00m sync_data:\n\u001b[0;32m    652\u001b[0m         \u001b[38;5;28;01mif\u001b[39;00m name \u001b[38;5;129;01min\u001b[39;00m \u001b[38;5;28mself\u001b[39m\u001b[38;5;241m.\u001b[39mkeys:\n",
      "File \u001b[1;32mc:\\Users\\Lapto\\anaconda3\\envs\\grupo-IA\\Lib\\contextlib.py:144\u001b[0m, in \u001b[0;36m_GeneratorContextManager.__exit__\u001b[1;34m(self, typ, value, traceback)\u001b[0m\n\u001b[0;32m    142\u001b[0m \u001b[38;5;28;01mif\u001b[39;00m typ \u001b[38;5;129;01mis\u001b[39;00m \u001b[38;5;28;01mNone\u001b[39;00m:\n\u001b[0;32m    143\u001b[0m     \u001b[38;5;28;01mtry\u001b[39;00m:\n\u001b[1;32m--> 144\u001b[0m         \u001b[38;5;28mnext\u001b[39m(\u001b[38;5;28mself\u001b[39m\u001b[38;5;241m.\u001b[39mgen)\n\u001b[0;32m    145\u001b[0m     \u001b[38;5;28;01mexcept\u001b[39;00m \u001b[38;5;167;01mStopIteration\u001b[39;00m:\n\u001b[0;32m    146\u001b[0m         \u001b[38;5;28;01mreturn\u001b[39;00m \u001b[38;5;28;01mFalse\u001b[39;00m\n",
      "File \u001b[1;32mc:\\Users\\Lapto\\anaconda3\\envs\\grupo-IA\\Lib\\site-packages\\traitlets\\traitlets.py:1498\u001b[0m, in \u001b[0;36mHasTraits.hold_trait_notifications\u001b[1;34m(self)\u001b[0m\n\u001b[0;32m   1496\u001b[0m \u001b[38;5;28;01mfor\u001b[39;00m changes \u001b[38;5;129;01min\u001b[39;00m cache\u001b[38;5;241m.\u001b[39mvalues():\n\u001b[0;32m   1497\u001b[0m     \u001b[38;5;28;01mfor\u001b[39;00m change \u001b[38;5;129;01min\u001b[39;00m changes:\n\u001b[1;32m-> 1498\u001b[0m         \u001b[38;5;28mself\u001b[39m\u001b[38;5;241m.\u001b[39mnotify_change(change)\n",
      "File \u001b[1;32mc:\\Users\\Lapto\\anaconda3\\envs\\grupo-IA\\Lib\\site-packages\\ipywidgets\\widgets\\widget.py:701\u001b[0m, in \u001b[0;36mWidget.notify_change\u001b[1;34m(self, change)\u001b[0m\n\u001b[0;32m    698\u001b[0m     \u001b[38;5;28;01mif\u001b[39;00m name \u001b[38;5;129;01min\u001b[39;00m \u001b[38;5;28mself\u001b[39m\u001b[38;5;241m.\u001b[39mkeys \u001b[38;5;129;01mand\u001b[39;00m \u001b[38;5;28mself\u001b[39m\u001b[38;5;241m.\u001b[39m_should_send_property(name, \u001b[38;5;28mgetattr\u001b[39m(\u001b[38;5;28mself\u001b[39m, name)):\n\u001b[0;32m    699\u001b[0m         \u001b[38;5;66;03m# Send new state to front-end\u001b[39;00m\n\u001b[0;32m    700\u001b[0m         \u001b[38;5;28mself\u001b[39m\u001b[38;5;241m.\u001b[39msend_state(key\u001b[38;5;241m=\u001b[39mname)\n\u001b[1;32m--> 701\u001b[0m \u001b[38;5;28msuper\u001b[39m()\u001b[38;5;241m.\u001b[39mnotify_change(change)\n",
      "File \u001b[1;32mc:\\Users\\Lapto\\anaconda3\\envs\\grupo-IA\\Lib\\site-packages\\traitlets\\traitlets.py:1513\u001b[0m, in \u001b[0;36mHasTraits.notify_change\u001b[1;34m(self, change)\u001b[0m\n\u001b[0;32m   1511\u001b[0m \u001b[38;5;28;01mdef\u001b[39;00m \u001b[38;5;21mnotify_change\u001b[39m(\u001b[38;5;28mself\u001b[39m, change):\n\u001b[0;32m   1512\u001b[0m \u001b[38;5;250m    \u001b[39m\u001b[38;5;124;03m\"\"\"Notify observers of a change event\"\"\"\u001b[39;00m\n\u001b[1;32m-> 1513\u001b[0m     \u001b[38;5;28;01mreturn\u001b[39;00m \u001b[38;5;28mself\u001b[39m\u001b[38;5;241m.\u001b[39m_notify_observers(change)\n",
      "File \u001b[1;32mc:\\Users\\Lapto\\anaconda3\\envs\\grupo-IA\\Lib\\site-packages\\traitlets\\traitlets.py:1560\u001b[0m, in \u001b[0;36mHasTraits._notify_observers\u001b[1;34m(self, event)\u001b[0m\n\u001b[0;32m   1557\u001b[0m \u001b[38;5;28;01melif\u001b[39;00m \u001b[38;5;28misinstance\u001b[39m(c, EventHandler) \u001b[38;5;129;01mand\u001b[39;00m c\u001b[38;5;241m.\u001b[39mname \u001b[38;5;129;01mis\u001b[39;00m \u001b[38;5;129;01mnot\u001b[39;00m \u001b[38;5;28;01mNone\u001b[39;00m:\n\u001b[0;32m   1558\u001b[0m     c \u001b[38;5;241m=\u001b[39m \u001b[38;5;28mgetattr\u001b[39m(\u001b[38;5;28mself\u001b[39m, c\u001b[38;5;241m.\u001b[39mname)\n\u001b[1;32m-> 1560\u001b[0m c(event)\n",
      "Cell \u001b[1;32mIn[3], line 67\u001b[0m, in \u001b[0;36mbarrios_observable\u001b[1;34m(change)\u001b[0m\n\u001b[0;32m     65\u001b[0m current_wiki_id \u001b[38;5;241m=\u001b[39m barrio_data[\u001b[38;5;124m\"\u001b[39m\u001b[38;5;124mwiki_ids\u001b[39m\u001b[38;5;124m\"\u001b[39m][index]\n\u001b[0;32m     66\u001b[0m \u001b[38;5;28mprint\u001b[39m(current_wiki_id)\n\u001b[1;32m---> 67\u001b[0m \u001b[38;5;28mprint\u001b[39m(get_wiki_data(current_wiki_id))\n\u001b[0;32m     68\u001b[0m lbl_poblacion\u001b[38;5;241m.\u001b[39mvalue \u001b[38;5;241m=\u001b[39m \u001b[38;5;124mf\u001b[39m\u001b[38;5;124m\"\u001b[39m\u001b[38;5;124mPoblacion: \u001b[39m\u001b[38;5;132;01m{\u001b[39;00mget_wiki_data(current_wiki_id)\u001b[38;5;132;01m}\u001b[39;00m\u001b[38;5;124m\"\u001b[39m\n\u001b[0;32m     69\u001b[0m center_list\u001b[38;5;241m.\u001b[39moptions \u001b[38;5;241m=\u001b[39m get_center_address(graph_CareCenter, dict_namespaces, current_barrio_id)\n",
      "File \u001b[1;32mc:\\Alex\\Obsidian\\Año II\\Curso2023-2024-DataScience\\HandsOn\\Group03\\app\\visuals\\gui_manager.py:55\u001b[0m, in \u001b[0;36mget_wiki_data\u001b[1;34m(user_choice)\u001b[0m\n\u001b[0;32m     52\u001b[0m results \u001b[38;5;241m=\u001b[39m get_results(endpoint_url, query)\n\u001b[0;32m     53\u001b[0m \u001b[38;5;66;03m# for result in results[\"results\"][\"bindings\"]:\u001b[39;00m\n\u001b[0;32m     54\u001b[0m \u001b[38;5;66;03m#     print(result[\"value\"][\"value\"])\u001b[39;00m\n\u001b[1;32m---> 55\u001b[0m \u001b[38;5;28;01mreturn\u001b[39;00m results[\u001b[38;5;124m\"\u001b[39m\u001b[38;5;124mresults\u001b[39m\u001b[38;5;124m\"\u001b[39m][\u001b[38;5;124m\"\u001b[39m\u001b[38;5;124mbindings\u001b[39m\u001b[38;5;124m\"\u001b[39m][\u001b[38;5;241m0\u001b[39m][\u001b[38;5;124m\"\u001b[39m\u001b[38;5;124mvalue\u001b[39m\u001b[38;5;124m\"\u001b[39m][\u001b[38;5;124m\"\u001b[39m\u001b[38;5;124mvalue\u001b[39m\u001b[38;5;124m\"\u001b[39m]\n",
      "\u001b[1;31mIndexError\u001b[0m: list index out of range"
     ]
    },
    {
     "name": "stdout",
     "output_type": "stream",
     "text": [
      "https://wikidata.org/entity/Q4781\n"
     ]
    },
    {
     "ename": "IndexError",
     "evalue": "list index out of range",
     "output_type": "error",
     "traceback": [
      "\u001b[1;31m---------------------------------------------------------------------------\u001b[0m",
      "\u001b[1;31mIndexError\u001b[0m                                Traceback (most recent call last)",
      "File \u001b[1;32mc:\\Users\\Lapto\\anaconda3\\envs\\grupo-IA\\Lib\\site-packages\\ipywidgets\\widgets\\widget.py:773\u001b[0m, in \u001b[0;36mWidget._handle_msg\u001b[1;34m(self, msg)\u001b[0m\n\u001b[0;32m    771\u001b[0m         \u001b[38;5;28;01mif\u001b[39;00m \u001b[38;5;124m'\u001b[39m\u001b[38;5;124mbuffer_paths\u001b[39m\u001b[38;5;124m'\u001b[39m \u001b[38;5;129;01min\u001b[39;00m data:\n\u001b[0;32m    772\u001b[0m             _put_buffers(state, data[\u001b[38;5;124m'\u001b[39m\u001b[38;5;124mbuffer_paths\u001b[39m\u001b[38;5;124m'\u001b[39m], msg[\u001b[38;5;124m'\u001b[39m\u001b[38;5;124mbuffers\u001b[39m\u001b[38;5;124m'\u001b[39m])\n\u001b[1;32m--> 773\u001b[0m         \u001b[38;5;28mself\u001b[39m\u001b[38;5;241m.\u001b[39mset_state(state)\n\u001b[0;32m    775\u001b[0m \u001b[38;5;66;03m# Handle a state request.\u001b[39;00m\n\u001b[0;32m    776\u001b[0m \u001b[38;5;28;01melif\u001b[39;00m method \u001b[38;5;241m==\u001b[39m \u001b[38;5;124m'\u001b[39m\u001b[38;5;124mrequest_state\u001b[39m\u001b[38;5;124m'\u001b[39m:\n",
      "File \u001b[1;32mc:\\Users\\Lapto\\anaconda3\\envs\\grupo-IA\\Lib\\site-packages\\ipywidgets\\widgets\\widget.py:650\u001b[0m, in \u001b[0;36mWidget.set_state\u001b[1;34m(self, sync_data)\u001b[0m\n\u001b[0;32m    645\u001b[0m         \u001b[38;5;28mself\u001b[39m\u001b[38;5;241m.\u001b[39m_send(msg, buffers\u001b[38;5;241m=\u001b[39mecho_buffers)\n\u001b[0;32m    647\u001b[0m \u001b[38;5;66;03m# The order of these context managers is important. Properties must\u001b[39;00m\n\u001b[0;32m    648\u001b[0m \u001b[38;5;66;03m# be locked when the hold_trait_notification context manager is\u001b[39;00m\n\u001b[0;32m    649\u001b[0m \u001b[38;5;66;03m# released and notifications are fired.\u001b[39;00m\n\u001b[1;32m--> 650\u001b[0m \u001b[38;5;28;01mwith\u001b[39;00m \u001b[38;5;28mself\u001b[39m\u001b[38;5;241m.\u001b[39m_lock_property(\u001b[38;5;241m*\u001b[39m\u001b[38;5;241m*\u001b[39msync_data), \u001b[38;5;28mself\u001b[39m\u001b[38;5;241m.\u001b[39mhold_trait_notifications():\n\u001b[0;32m    651\u001b[0m     \u001b[38;5;28;01mfor\u001b[39;00m name \u001b[38;5;129;01min\u001b[39;00m sync_data:\n\u001b[0;32m    652\u001b[0m         \u001b[38;5;28;01mif\u001b[39;00m name \u001b[38;5;129;01min\u001b[39;00m \u001b[38;5;28mself\u001b[39m\u001b[38;5;241m.\u001b[39mkeys:\n",
      "File \u001b[1;32mc:\\Users\\Lapto\\anaconda3\\envs\\grupo-IA\\Lib\\contextlib.py:144\u001b[0m, in \u001b[0;36m_GeneratorContextManager.__exit__\u001b[1;34m(self, typ, value, traceback)\u001b[0m\n\u001b[0;32m    142\u001b[0m \u001b[38;5;28;01mif\u001b[39;00m typ \u001b[38;5;129;01mis\u001b[39;00m \u001b[38;5;28;01mNone\u001b[39;00m:\n\u001b[0;32m    143\u001b[0m     \u001b[38;5;28;01mtry\u001b[39;00m:\n\u001b[1;32m--> 144\u001b[0m         \u001b[38;5;28mnext\u001b[39m(\u001b[38;5;28mself\u001b[39m\u001b[38;5;241m.\u001b[39mgen)\n\u001b[0;32m    145\u001b[0m     \u001b[38;5;28;01mexcept\u001b[39;00m \u001b[38;5;167;01mStopIteration\u001b[39;00m:\n\u001b[0;32m    146\u001b[0m         \u001b[38;5;28;01mreturn\u001b[39;00m \u001b[38;5;28;01mFalse\u001b[39;00m\n",
      "File \u001b[1;32mc:\\Users\\Lapto\\anaconda3\\envs\\grupo-IA\\Lib\\site-packages\\traitlets\\traitlets.py:1498\u001b[0m, in \u001b[0;36mHasTraits.hold_trait_notifications\u001b[1;34m(self)\u001b[0m\n\u001b[0;32m   1496\u001b[0m \u001b[38;5;28;01mfor\u001b[39;00m changes \u001b[38;5;129;01min\u001b[39;00m cache\u001b[38;5;241m.\u001b[39mvalues():\n\u001b[0;32m   1497\u001b[0m     \u001b[38;5;28;01mfor\u001b[39;00m change \u001b[38;5;129;01min\u001b[39;00m changes:\n\u001b[1;32m-> 1498\u001b[0m         \u001b[38;5;28mself\u001b[39m\u001b[38;5;241m.\u001b[39mnotify_change(change)\n",
      "File \u001b[1;32mc:\\Users\\Lapto\\anaconda3\\envs\\grupo-IA\\Lib\\site-packages\\ipywidgets\\widgets\\widget.py:701\u001b[0m, in \u001b[0;36mWidget.notify_change\u001b[1;34m(self, change)\u001b[0m\n\u001b[0;32m    698\u001b[0m     \u001b[38;5;28;01mif\u001b[39;00m name \u001b[38;5;129;01min\u001b[39;00m \u001b[38;5;28mself\u001b[39m\u001b[38;5;241m.\u001b[39mkeys \u001b[38;5;129;01mand\u001b[39;00m \u001b[38;5;28mself\u001b[39m\u001b[38;5;241m.\u001b[39m_should_send_property(name, \u001b[38;5;28mgetattr\u001b[39m(\u001b[38;5;28mself\u001b[39m, name)):\n\u001b[0;32m    699\u001b[0m         \u001b[38;5;66;03m# Send new state to front-end\u001b[39;00m\n\u001b[0;32m    700\u001b[0m         \u001b[38;5;28mself\u001b[39m\u001b[38;5;241m.\u001b[39msend_state(key\u001b[38;5;241m=\u001b[39mname)\n\u001b[1;32m--> 701\u001b[0m \u001b[38;5;28msuper\u001b[39m()\u001b[38;5;241m.\u001b[39mnotify_change(change)\n",
      "File \u001b[1;32mc:\\Users\\Lapto\\anaconda3\\envs\\grupo-IA\\Lib\\site-packages\\traitlets\\traitlets.py:1513\u001b[0m, in \u001b[0;36mHasTraits.notify_change\u001b[1;34m(self, change)\u001b[0m\n\u001b[0;32m   1511\u001b[0m \u001b[38;5;28;01mdef\u001b[39;00m \u001b[38;5;21mnotify_change\u001b[39m(\u001b[38;5;28mself\u001b[39m, change):\n\u001b[0;32m   1512\u001b[0m \u001b[38;5;250m    \u001b[39m\u001b[38;5;124;03m\"\"\"Notify observers of a change event\"\"\"\u001b[39;00m\n\u001b[1;32m-> 1513\u001b[0m     \u001b[38;5;28;01mreturn\u001b[39;00m \u001b[38;5;28mself\u001b[39m\u001b[38;5;241m.\u001b[39m_notify_observers(change)\n",
      "File \u001b[1;32mc:\\Users\\Lapto\\anaconda3\\envs\\grupo-IA\\Lib\\site-packages\\traitlets\\traitlets.py:1560\u001b[0m, in \u001b[0;36mHasTraits._notify_observers\u001b[1;34m(self, event)\u001b[0m\n\u001b[0;32m   1557\u001b[0m \u001b[38;5;28;01melif\u001b[39;00m \u001b[38;5;28misinstance\u001b[39m(c, EventHandler) \u001b[38;5;129;01mand\u001b[39;00m c\u001b[38;5;241m.\u001b[39mname \u001b[38;5;129;01mis\u001b[39;00m \u001b[38;5;129;01mnot\u001b[39;00m \u001b[38;5;28;01mNone\u001b[39;00m:\n\u001b[0;32m   1558\u001b[0m     c \u001b[38;5;241m=\u001b[39m \u001b[38;5;28mgetattr\u001b[39m(\u001b[38;5;28mself\u001b[39m, c\u001b[38;5;241m.\u001b[39mname)\n\u001b[1;32m-> 1560\u001b[0m c(event)\n",
      "Cell \u001b[1;32mIn[3], line 67\u001b[0m, in \u001b[0;36mbarrios_observable\u001b[1;34m(change)\u001b[0m\n\u001b[0;32m     65\u001b[0m current_wiki_id \u001b[38;5;241m=\u001b[39m barrio_data[\u001b[38;5;124m\"\u001b[39m\u001b[38;5;124mwiki_ids\u001b[39m\u001b[38;5;124m\"\u001b[39m][index]\n\u001b[0;32m     66\u001b[0m \u001b[38;5;28mprint\u001b[39m(current_wiki_id)\n\u001b[1;32m---> 67\u001b[0m \u001b[38;5;28mprint\u001b[39m(get_wiki_data(current_wiki_id))\n\u001b[0;32m     68\u001b[0m lbl_poblacion\u001b[38;5;241m.\u001b[39mvalue \u001b[38;5;241m=\u001b[39m \u001b[38;5;124mf\u001b[39m\u001b[38;5;124m\"\u001b[39m\u001b[38;5;124mPoblacion: \u001b[39m\u001b[38;5;132;01m{\u001b[39;00mget_wiki_data(current_wiki_id)\u001b[38;5;132;01m}\u001b[39;00m\u001b[38;5;124m\"\u001b[39m\n\u001b[0;32m     69\u001b[0m center_list\u001b[38;5;241m.\u001b[39moptions \u001b[38;5;241m=\u001b[39m get_center_address(graph_CareCenter, dict_namespaces, current_barrio_id)\n",
      "File \u001b[1;32mc:\\Alex\\Obsidian\\Año II\\Curso2023-2024-DataScience\\HandsOn\\Group03\\app\\visuals\\gui_manager.py:55\u001b[0m, in \u001b[0;36mget_wiki_data\u001b[1;34m(user_choice)\u001b[0m\n\u001b[0;32m     52\u001b[0m results \u001b[38;5;241m=\u001b[39m get_results(endpoint_url, query)\n\u001b[0;32m     53\u001b[0m \u001b[38;5;66;03m# for result in results[\"results\"][\"bindings\"]:\u001b[39;00m\n\u001b[0;32m     54\u001b[0m \u001b[38;5;66;03m#     print(result[\"value\"][\"value\"])\u001b[39;00m\n\u001b[1;32m---> 55\u001b[0m \u001b[38;5;28;01mreturn\u001b[39;00m results[\u001b[38;5;124m\"\u001b[39m\u001b[38;5;124mresults\u001b[39m\u001b[38;5;124m\"\u001b[39m][\u001b[38;5;124m\"\u001b[39m\u001b[38;5;124mbindings\u001b[39m\u001b[38;5;124m\"\u001b[39m][\u001b[38;5;241m0\u001b[39m][\u001b[38;5;124m\"\u001b[39m\u001b[38;5;124mvalue\u001b[39m\u001b[38;5;124m\"\u001b[39m][\u001b[38;5;124m\"\u001b[39m\u001b[38;5;124mvalue\u001b[39m\u001b[38;5;124m\"\u001b[39m]\n",
      "\u001b[1;31mIndexError\u001b[0m: list index out of range"
     ]
    }
   ],
   "source": [
    "# * WIDGETS\n",
    "\n",
    "# header image\n",
    "\n",
    "with open(\"./images/hero_cropped.jpg\", 'rb') as file:\n",
    "        image = file.read()\n",
    "\n",
    "header_img = widgets.Image(\n",
    "    value=image,\n",
    "    format='jpg',\n",
    ")\n",
    "header_img.layout.height = '200px'\n",
    "\n",
    "hbox_image = widgets.HBox([widgets.Label(), header_img, widgets.Label()], \n",
    "                          layout=widgets.Layout(justify_content='center'))\n",
    "\n",
    "btn_search = widgets.Button(\n",
    "    description = \"Busca\",\n",
    "    disabled = True,\n",
    "    tooltip = \"Busca DogCity\",\n",
    "    icon = \"search\"\n",
    ")\n",
    "# map button (only shown in Voila app)\n",
    "btn_map = widgets.Button(\n",
    "    description = \"Mostrar mapa\",\n",
    "    disabled = False,\n",
    "    tooltip = \"Mostrar Mapa\",\n",
    "    icon = \"map\"\n",
    ")\n",
    "# progress_bar\n",
    "progress_bar = widgets.IntProgress(\n",
    "    value=0,\n",
    "    min=0,\n",
    "    max=100,\n",
    "    description='Generating map:',\n",
    "    style={'bar_color': 'blue'},\n",
    "    orientation='horizontal'\n",
    ")\n",
    "\n",
    "\n",
    "\n",
    "# output for the map, so we can change it\n",
    "out_map = widgets.Output()\n",
    "\n",
    "barrio_data = get_barrio_names(graph_Parks, dict_namespaces)\n",
    "barrio_names = barrio_data[\"barrio_names\"]\n",
    "lbl_poblacion = widgets.Label(value=\"Poblacion: \")\n",
    "\n",
    "barrios = widgets.Combobox(\n",
    "    placeholder=\"Elige el barrio\",\n",
    "    options= barrio_names,\n",
    "    description=\"Elige tu barrio\",\n",
    "    ensure_option=True,\n",
    "    disabled=False\n",
    "    )\n",
    "current_barrio_id = \"\"\n",
    "\n",
    "def barrios_observable(change):\n",
    "    # print(change)\n",
    "    # print(change[\"new\"])\n",
    "    # print(index)\n",
    "    # print(barrio_data[\"barrio_ids\"][index])\n",
    "    index = barrio_names.index(change[\"new\"])\n",
    "    current_barrio_id = barrio_data[\"barrio_ids\"][index]\n",
    "    current_wiki_id = barrio_data[\"wiki_ids\"][index]\n",
    "    print(current_wiki_id)\n",
    "    print(get_wiki_data(current_wiki_id))\n",
    "    lbl_poblacion.value = f\"Poblacion: {get_wiki_data(current_wiki_id)}\"\n",
    "    center_list.options = get_center_address(graph_CareCenter, dict_namespaces, current_barrio_id)\n",
    "\n",
    "# widget that shows the generated route as a list\n",
    "center_list = widgets.SelectMultiple(\n",
    "                  options=[],\n",
    "                  disabled=False,\n",
    "                  description=\"Care centers\"\n",
    "                )\n",
    "center_list.layout.width = '436px'\n",
    "# we set what to do when the checkbox changes\n",
    "barrios.observe(barrios_observable, names='value')\n",
    "\n",
    "journey_tab = widgets.VBox([widgets.Label(), barrios, lbl_poblacion, center_list])\n",
    "# the tabs widget that starts with only one tab\n",
    "\n",
    "\n",
    "\n",
    "tabs = widgets.Tab(children=[journey_tab])\n",
    "tabs.set_title(0, 'Buscador')\n",
    "tabs.layout.justify_content = 'center'\n",
    "# placement of the tabs widget in the middle of the page\n",
    "hbox_tabs = widgets.HBox([widgets.Label(), tabs, widgets.Label()], layout=widgets.Layout(justify_content='center'))\n"
   ]
  },
  {
   "cell_type": "code",
   "execution_count": 4,
   "metadata": {},
   "outputs": [
    {
     "data": {
      "text/html": [
       "\n",
       "                    <style>\n",
       "                    @import url('https://fonts.googleapis.com/css2?family=Karla:wght@400&display=swap');\n",
       "\n",
       "                    /* Set the default font for the entire document */\n",
       "                    body, button, input, select, textarea, label {\n",
       "                    font-family: 'Karla', sans-serif;\n",
       "                    }\n",
       "\n",
       "                    /* Increase the font size for h1 elements */\n",
       "                    h1 {\n",
       "                    font-size: 48px;\n",
       "                    }\n",
       "\n",
       "                    /* Material Design button styles */\n",
       "                    button.material-button {\n",
       "                    display: inline-block;\n",
       "                    padding: 10px 20px;\n",
       "                    font-size: 16px;\n",
       "                    text-align: center;\n",
       "                    text-decoration: none;\n",
       "                    outline: none;\n",
       "                    color: #fff;\n",
       "                    background-color: #2196F3;\n",
       "                    border: none;\n",
       "                    border-radius: 5px;\n",
       "                    box-shadow: 0 5px 15px rgba(33, 150, 243, 0.3);\n",
       "                    cursor: pointer;\n",
       "                    }\n",
       "\n",
       "                    button.material-button:hover {\n",
       "                    background-color: #1565C0;\n",
       "                    }\n",
       "\n",
       "                    button.material-button:active {\n",
       "                    background-color: #0D47A1;\n",
       "                    }\n",
       "\n",
       "                    /* Material Design text input styles */\n",
       "                    input.material-input {\n",
       "                    padding: 10px;\n",
       "                    font-size: 16px;\n",
       "                    border: 1px solid #ccc;\n",
       "                    border-radius: 5px;\n",
       "                    }\n",
       "\n",
       "                    input.material-input:focus {\n",
       "                    border-color: #2196F3;\n",
       "                    box-shadow: 0 0 5px rgba(33, 150, 243, 0.5);\n",
       "                    }\n",
       "\n",
       "                    /* Material Design Combobox styles */\n",
       "                    div.material-combobox {\n",
       "                    display: inline-block;\n",
       "                    position: relative;\n",
       "                    }\n",
       "\n",
       "                    div.material-combobox select {\n",
       "                    width: 100%;\n",
       "                    padding: 10px;\n",
       "                    font-size: 16px;\n",
       "                    border: 1px solid #ccc;\n",
       "                    border-radius: 5px;\n",
       "                    cursor: pointer;\n",
       "                    }\n",
       "\n",
       "                    div.material-combobox select:focus {\n",
       "                    border-color: #2196F3;\n",
       "                    box-shadow: 0 0 5px rgba(33, 150, 243, 0.5);\n",
       "                    }\n",
       "\n",
       "                    /* Material Design label styles */\n",
       "                    label.material-label {\n",
       "                    font-size: 16px;\n",
       "                    color: #2196F3;\n",
       "                    margin-bottom: 5px;\n",
       "                    }\n",
       "                    </style>\n",
       "                    "
      ],
      "text/plain": [
       "<IPython.core.display.HTML object>"
      ]
     },
     "metadata": {},
     "output_type": "display_data"
    },
    {
     "data": {
      "application/vnd.jupyter.widget-view+json": {
       "model_id": "080060c9541444a89cab75615ccf7887",
       "version_major": 2,
       "version_minor": 0
      },
      "text/plain": [
       "HBox(children=(Label(value=''), Image(value=b'\\xff\\xd8\\xff\\xe0\\x00\\x10JFIF\\x00\\x01\\x01\\x01\\x00`\\x00`\\x00\\x00\\x…"
      ]
     },
     "metadata": {},
     "output_type": "display_data"
    },
    {
     "data": {
      "application/vnd.jupyter.widget-view+json": {
       "model_id": "d397fe586ba94fcb816500b61e7f8882",
       "version_major": 2,
       "version_minor": 0
      },
      "text/plain": [
       "HBox(children=(Label(value=''), Tab(children=(VBox(children=(Label(value=''), Combobox(value='', description='…"
      ]
     },
     "metadata": {},
     "output_type": "display_data"
    },
    {
     "data": {
      "application/vnd.jupyter.widget-view+json": {
       "model_id": "10c98eb00bc14c8a9721663bc610698d",
       "version_major": 2,
       "version_minor": 0
      },
      "text/plain": [
       "Output()"
      ]
     },
     "metadata": {},
     "output_type": "display_data"
    }
   ],
   "source": [
    "# * MAIN DISPLAY\n",
    "\n",
    "display(HTML(StyleConfig.MATERIAL_CSS.value))\n",
    "display(hbox_image)\n",
    "\n",
    "display(hbox_tabs)\n",
    "display(out_map)\n",
    "\n",
    "\n",
    "\n",
    "\n",
    "def on_button_click_map(btn):\n",
    "    with out_map:\n",
    "        clear_output(wait=True)\n",
    "        display(initial_map)\n",
    "\n",
    "\n",
    "btn_map.on_click(on_button_click_map)\n"
   ]
  }
 ],
 "metadata": {
  "kernelspec": {
   "display_name": "Python 3 (ipykernel)",
   "language": "python",
   "name": "python3"
  },
  "language_info": {
   "codemirror_mode": {
    "name": "ipython",
    "version": 3
   },
   "file_extension": ".py",
   "mimetype": "text/x-python",
   "name": "python",
   "nbconvert_exporter": "python",
   "pygments_lexer": "ipython3",
   "version": "3.11.5"
  }
 },
 "nbformat": 4,
 "nbformat_minor": 4
}
