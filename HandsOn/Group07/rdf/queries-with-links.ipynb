{
 "cells": [
  {
   "cell_type": "code",
   "execution_count": 14,
   "metadata": {},
   "outputs": [],
   "source": [
    "from rdflib import Graph, Namespace\n",
    "from rdflib.namespace import RDF, FOAF"
   ]
  },
  {
   "cell_type": "code",
   "execution_count": 15,
   "metadata": {},
   "outputs": [
    {
     "data": {
      "text/plain": [
       "<Graph identifier=Ncfe918755d484b3e97f3bce7f338c632 (<class 'rdflib.graph.Graph'>)>"
      ]
     },
     "execution_count": 15,
     "metadata": {},
     "output_type": "execute_result"
    }
   ],
   "source": [
    "file_path = \"result-with-links.ttl\"\n",
    "\n",
    "G = Graph()\n",
    "G.parse(file_path, format=\"turtle\")"
   ]
  },
  {
   "cell_type": "code",
   "execution_count": 16,
   "metadata": {},
   "outputs": [],
   "source": [
    "ns = Namespace(\"https://datos.comunidad.madrid/centros_educativos/ontology#\")\n",
    "owl = Namespace(\"http://www.w3.org/2002/07/owl#\")\n",
    "geo = Namespace(\"http://www.w3.org/2003/01/geo/wgs84_pos#\")"
   ]
  },
  {
   "cell_type": "code",
   "execution_count": 17,
   "metadata": {},
   "outputs": [
    {
     "name": "stdout",
     "output_type": "stream",
     "text": [
      "DIS_ID: 21 (https://wikidata.org/entity/Q807230) Nombre: COLEGIO SAN PEDRO APOSTOL,  DESC: CENTRO PRIVADO DE EDUCACIÓN INFANTIL, PRIMARIA Y SECUNDARIA\n",
      "DIS_ID: 21 (https://wikidata.org/entity/Q807230) Nombre: LAS GAVIOTAS,  DESC: CENTRO PRIVADO DE EDUCACIÓN INFANTIL\n",
      "DIS_ID: 21 (https://wikidata.org/entity/Q807230) Nombre: COLEGIO DE JESUS,  DESC: CENTRO PRIVADO DE EDUCACIÓN INFANTIL, PRIMARIA Y SECUNDARIA\n",
      "DIS_ID: 21 (https://wikidata.org/entity/Q807230) Nombre: COLEGIO GAUDEM,  DESC: CENTRO PRIVADO DE EDUCACIÓN INFANTIL, PRIMARIA Y SECUNDARIA\n",
      "DIS_ID: 21 (https://wikidata.org/entity/Q807230) Nombre: COLEGIO GAUDEM,  DESC: CENTRO PRIVADO DE EDUCACIÓN ESPECIAL\n"
     ]
    }
   ],
   "source": [
    "# Buscar centros educativos privado-concertados en el distrito de Barajas y mostrar código del distrito, \n",
    "# link del distrito, y nombre del centro y su descripción\n",
    "\n",
    "qres = G.query(\n",
    "        \"\"\"SELECT DISTINCT ?DisID ?LinkDis ?Name ?Desc \n",
    "            WHERE {\n",
    "                ?ECenter rdf:type ns:EducativeCenter;\n",
    "                    foaf:name ?Name;\n",
    "                    ns:hasOwnership \"PRIVADO CONCERTADO\";\n",
    "                    ns:hasDescription ?Desc;\n",
    "                    ns:hasAddress ?Address.\n",
    "                ?Address ns:isInDistrict ?District.\n",
    "                ?District foaf:name \"Barajas\";\n",
    "                    ns:hasid ?DisID;\n",
    "                    owl:sameAs ?LinkDis.\n",
    "           }\n",
    "        \"\"\",\n",
    "        initNs = {\"rdf\": RDF, \"foaf\": FOAF, \"ns\": ns, \"owl\": owl})\n",
    "\n",
    "for row in qres:\n",
    "    print (\"DIS_ID: %s (%s) Nombre: %s,  DESC: %s\" % row)\n"
   ]
  },
  {
   "cell_type": "code",
   "execution_count": 18,
   "metadata": {},
   "outputs": [
    {
     "name": "stdout",
     "output_type": "stream",
     "text": [
      "https://datos.comunidad.madrid/centros_educativos/resource/EducativeCenter/28067771: CALLE DE LOS ARADOS, 10, 28944, (-3.79728386, 40.27848533) - Fuenlabrada (https://wikidata.org/entity/Q54902)\n",
      "https://datos.comunidad.madrid/centros_educativos/resource/EducativeCenter/28033552: CALLE DEL DESARROLLO, 50, 28938, (-3.86512299, 40.31283644) - Móstoles (https://wikidata.org/entity/Q187826)\n"
     ]
    }
   ],
   "source": [
    "\n",
    "# Buscar la dirección (incluyendo longitud y latitud) y el link del municipio de los centros con nombre \"MANUELA MALASAÑA\"\n",
    "\n",
    "qres = G.query(\n",
    "          \"\"\"SELECT DISTINCT ?ECenter ?CompAddress ?Long ?Lat ?MunName ?MunLink\n",
    "               WHERE {\n",
    "                    ?ECenter rdf:type ns:EducativeCenter;\n",
    "                         ns:hasAddress ?Address;\n",
    "                         foaf:name \"MANUELA MALASAÑA\".\n",
    "                    ?Address ns:hasCompleteAddress ?CompAddress;\n",
    "                         geo:long ?Long;\n",
    "                         geo:lat ?Lat;\n",
    "                         ns:isInMunicipality ?Mun.\n",
    "                    ?Mun foaf:name ?MunName;\n",
    "                         owl:sameAs ?MunLink                  \n",
    "                    }\n",
    "          \"\"\", \n",
    "          initNs = {\"rdf\": RDF,\"ns\": ns, \"foaf\": FOAF, \"owl\": owl, \"geo\": geo})\n",
    "\n",
    "for row in qres:\n",
    "    print (\"%s: %s, (%s, %s) - %s (%s)\" % row)\n"
   ]
  },
  {
   "cell_type": "code",
   "execution_count": 19,
   "metadata": {},
   "outputs": [
    {
     "name": "stdout",
     "output_type": "stream",
     "text": [
      "https://wikidata.org/entity/Q19080 VASCO NUÑEZ DE BALBOA  (PÚBLICO)\n",
      "https://wikidata.org/entity/Q784648 NUESTRA SEÑORA DEL BUEN CONSEJO  (PRIVADO CONCERTADO)\n",
      "https://wikidata.org/entity/Q139140 MARGOT  (PRIVADO)\n",
      "https://wikidata.org/entity/Q318502 SANTO DOMINGO SAVIO  (PRIVADO CONCERTADO)\n",
      "https://wikidata.org/entity/Q408284 SAGRADO CORAZON DE JESUS  (PRIVADO CONCERTADO)\n",
      "https://wikidata.org/entity/Q116999126 MORATA DE TAJUÑA  Nº 1  (PÚBLICO)\n",
      "https://wikidata.org/entity/Q43051 BAMBI  (PRIVADO)\n",
      "https://wikidata.org/entity/Q150526 RAMON Y CAJAL  (PÚBLICO)\n",
      "https://wikidata.org/entity/Q9058492 ARQUITECTO PERIDIS  (PÚBLICO)\n",
      "https://wikidata.org/entity/Q153020 JOSE ORTEGA Y GASSET  (PÚBLICO)\n",
      "https://wikidata.org/entity/Q16507 GUADARRAMA  (PÚBLICO)\n",
      "https://wikidata.org/entity/Q128267 SAN JOSE OBRERO  (PÚBLICO)\n",
      "https://wikidata.org/entity/Q2671799 SANTOS NIÑOS  (PÚBLICO)\n",
      "https://wikidata.org/entity/Q41211 SAN JUAN BAUTISTA  (PÚBLICO)\n",
      "https://wikidata.org/entity/Q61944955 SAN RAMON Y SAN ANTONIO  (PRIVADO CONCERTADO)\n"
     ]
    }
   ],
   "source": [
    "# Buscar nombres de centros educativos que tienen link en Wikidata y mostrar dicho link y la Ownership del centro\n",
    "\n",
    "qres = G.query(\n",
    "        \"\"\"SELECT DISTINCT ?Wiki ?Name ?Ownership\n",
    "            WHERE {\n",
    "                ?ECenter rdf:type ns:EducativeCenter;\n",
    "                    foaf:name ?Name;\n",
    "                    ns:hasOwnership ?Ownership;\n",
    "                    ns:refersTo ?OtherEntity.\n",
    "                ?OtherEntity owl:sameAs ?Wiki.\n",
    "            } LIMIT 15\n",
    "        \"\"\",\n",
    "        initNs = {\"rdf\": RDF,\"ns\": ns, \"foaf\": FOAF, \"owl\": owl})\n",
    "\n",
    "for row in qres:\n",
    "    print (\"%s %s  (%s)\" % row)"
   ]
  },
  {
   "cell_type": "code",
   "execution_count": 20,
   "metadata": {},
   "outputs": [
    {
     "name": "stdout",
     "output_type": "stream",
     "text": [
      "ID: 28034027, Link: https://wikidata.org/entity/Q243771, Web: http://www.educa.madrid.org/cp.machado.parla\n",
      "ID: 28049390, Link: https://wikidata.org/entity/Q243771, Web: http://www.educa.madrid.org/cp.machado.fuenlabrada\n",
      "ID: 28000601, Link: https://wikidata.org/entity/Q243771, Web: http://www.educa.madrid.org/cp.machado.alcobendas\n",
      "ID: 28042978, Link: https://wikidata.org/entity/Q243771, Web: http://www.educa.madrid.org/cp.machado.arganda\n",
      "ID: 28005039, Link: https://wikidata.org/entity/Q243771, Web: http://www.educa.madrid.org/cp.machado.madrid\n",
      "ID: 28046662, Link: https://wikidata.org/entity/Q243771, Web: http://www.educa.madrid.org/em.machado.madrid\n",
      "ID: 28041731, Link: https://wikidata.org/entity/Q243771, Web: http://www.educa.madrid.org/cp.machado.colladovillalba\n",
      "ID: 28000522, Link: https://wikidata.org/entity/Q243771, Web: http://www.educa.madrid.org/ies.machado.alcala\n",
      "ID: 28031521, Link: https://wikidata.org/entity/Q243771, Web: http://www.educa.madrid.org/cp.machado.sansebastian\n",
      "ID: 28039359, Link: https://wikidata.org/entity/Q243771, Web: http://www.educa.madrid.org/cp.machado.colmenarviejo\n",
      "ID: 28033621, Link: https://wikidata.org/entity/Q243771, Web: http://www.educa.madrid.org/cp.machado.alcala\n",
      "ID: 28031531, Link: https://wikidata.org/entity/Q243771, Web: http://www.educa.madrid.org/cp.machado.torrejondeardoz\n",
      "ID: 28030381, Link: https://wikidata.org/entity/Q243771, Web: http://www.educa.madrid.org/cp.machado.leganes\n",
      "ID: 28031506, Link: https://wikidata.org/entity/Q243771, Web: http://www.educa.madrid.org/cp.machado.majadahonda\n"
     ]
    }
   ],
   "source": [
    "# Buscar el ID de los centros cuyo link corresponde a Antonio Machado y mostrar sus webs\n",
    "\n",
    "qres = G.query(\n",
    "        \"\"\"SELECT DISTINCT ?ID ?Wiki ?Web\n",
    "            WHERE {\n",
    "                ?ECenter rdf:type ns:EducativeCenter;\n",
    "                    ns:hasid ?ID;\n",
    "                    ns:hasContact ?Contact;\n",
    "                    ns:refersTo ?OtherEntity.\n",
    "                ?OtherEntity owl:sameAs ?Wiki;\n",
    "                    foaf:name \"Antonio Machado\".\n",
    "                ?Contact ns:hasWebsite ?Web\n",
    "            }\n",
    "        \"\"\",\n",
    "        initNs = {\"rdf\": RDF,\"ns\": ns, \"foaf\": FOAF, \"owl\": owl})\n",
    "\n",
    "for row in qres:\n",
    "    print (\"ID: %s, Link: %s, Web: %s\" % row)"
   ]
  }
 ],
 "metadata": {
  "kernelspec": {
   "display_name": "Python 3",
   "language": "python",
   "name": "python3"
  },
  "language_info": {
   "codemirror_mode": {
    "name": "ipython",
    "version": 3
   },
   "file_extension": ".py",
   "mimetype": "text/x-python",
   "name": "python",
   "nbconvert_exporter": "python",
   "pygments_lexer": "ipython3",
   "version": "3.11.0"
  }
 },
 "nbformat": 4,
 "nbformat_minor": 2
}
