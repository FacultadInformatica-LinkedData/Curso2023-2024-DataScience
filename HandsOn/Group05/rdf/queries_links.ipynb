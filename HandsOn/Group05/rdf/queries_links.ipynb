{
  "nbformat": 4,
  "nbformat_minor": 0,
  "metadata": {
    "colab": {
      "provenance": []
    },
    "kernelspec": {
      "name": "python3",
      "display_name": "Python 3"
    },
    "language_info": {
      "name": "python"
    }
  },
  "cells": [
    {
      "cell_type": "markdown",
      "source": [
        "BÚSQUEDAS SIN LINKS\n"
      ],
      "metadata": {
        "id": "HrgePQI-cr1n"
      }
    },
    {
      "cell_type": "code",
      "source": [
        "!pip install rdflib"
      ],
      "metadata": {
        "colab": {
          "base_uri": "https://localhost:8080/"
        },
        "id": "Cu_FUH-UdtkX",
        "outputId": "096dc606-5f54-42ef-ece5-0eb2d7299f40"
      },
      "execution_count": 79,
      "outputs": [
        {
          "output_type": "stream",
          "name": "stdout",
          "text": [
            "Requirement already satisfied: rdflib in /usr/local/lib/python3.10/dist-packages (7.0.0)\n",
            "Requirement already satisfied: isodate<0.7.0,>=0.6.0 in /usr/local/lib/python3.10/dist-packages (from rdflib) (0.6.1)\n",
            "Requirement already satisfied: pyparsing<4,>=2.1.0 in /usr/local/lib/python3.10/dist-packages (from rdflib) (3.1.1)\n",
            "Requirement already satisfied: six in /usr/local/lib/python3.10/dist-packages (from isodate<0.7.0,>=0.6.0->rdflib) (1.16.0)\n"
          ]
        }
      ]
    },
    {
      "cell_type": "code",
      "execution_count": 80,
      "metadata": {
        "id": "egE2jzclcfUA"
      },
      "outputs": [],
      "source": [
        "from rdflib import Graph, Namespace, Literal\n",
        "from rdflib.namespace  import RDF, RDFS, FOAF, XSD, OWL\n",
        "from rdflib.plugins.sparql import prepareQuery"
      ]
    },
    {
      "cell_type": "code",
      "source": [
        "from google.colab import drive\n",
        "drive.mount('/content/drive')"
      ],
      "metadata": {
        "colab": {
          "base_uri": "https://localhost:8080/"
        },
        "id": "MUKyulbEkArj",
        "outputId": "e5f54aee-b3d0-427f-ac4a-85b4f06b13e0"
      },
      "execution_count": 81,
      "outputs": [
        {
          "output_type": "stream",
          "name": "stdout",
          "text": [
            "Drive already mounted at /content/drive; to attempt to forcibly remount, call drive.mount(\"/content/drive\", force_remount=True).\n"
          ]
        }
      ]
    },
    {
      "cell_type": "code",
      "source": [
        "g = Graph()\n",
        "g.namespace_manager.bind('ont', Namespace('http://www.madrid.limpiezaurbana.es/ontology#'), override=False)\n",
        "g.namespace_manager.bind('xsd', Namespace('http://www.w3.org/2001/XMLSchema#'), override=False)\n",
        "ubi='/content/drive/MyDrive/queries/result_links.nt'\n",
        "g.parse(ubi, format=\"nt\")"
      ],
      "metadata": {
        "colab": {
          "base_uri": "https://localhost:8080/"
        },
        "id": "Eu4gxNW7ck9x",
        "outputId": "dcb376aa-1897-4608-e932-91d7189e9c07"
      },
      "execution_count": 82,
      "outputs": [
        {
          "output_type": "execute_result",
          "data": {
            "text/plain": [
              "<Graph identifier=Na88d4768baa84c6d88f9bd15bf07023b (<class 'rdflib.graph.Graph'>)>"
            ]
          },
          "metadata": {},
          "execution_count": 82
        }
      ]
    },
    {
      "cell_type": "code",
      "source": [
        "ont=Namespace(\"http://www.madrid.limpiezaurbana.es/ontology#\")"
      ],
      "metadata": {
        "id": "Vv1Q7tlClP3g"
      },
      "execution_count": 83,
      "outputs": []
    },
    {
      "cell_type": "markdown",
      "source": [
        "**1º Query**: Información de cada distrito"
      ],
      "metadata": {
        "id": "DiEtdCEBleoZ"
      }
    },
    {
      "cell_type": "code",
      "source": [
        "q1=prepareQuery('''\n",
        "SELECT ?distrito ?nombre ?codigo\n",
        "WHERE {\n",
        "   ?distrito a ont:Distrito;\n",
        "             foaf:name ?nombre;\n",
        "             ont:tieneUnCodigo ?codigo.\n",
        "}\n",
        "\n",
        "  ''',\n",
        "  initNs = { \"rdf\": RDF, \"rdfs\": RDFS, \"foaf\":FOAF, \"ont\":ont}\n",
        ")\n",
        "\n",
        "for r in g.query(q1):\n",
        "  print(r)"
      ],
      "metadata": {
        "id": "OyUEqU4pldL5",
        "colab": {
          "base_uri": "https://localhost:8080/"
        },
        "outputId": "f76e7bee-90a6-4a66-cf55-16c24c4c92e7"
      },
      "execution_count": 84,
      "outputs": [
        {
          "output_type": "stream",
          "name": "stdout",
          "text": [
            "(rdflib.term.URIRef('http://www.madrid.limpiezaurbana.es/Distrito/Carabanchel'), rdflib.term.Literal('Carabanchel'), rdflib.term.Literal('11'))\n",
            "(rdflib.term.URIRef('http://www.madrid.limpiezaurbana.es/Distrito/Retiro'), rdflib.term.Literal('Retiro'), rdflib.term.Literal('3'))\n",
            "(rdflib.term.URIRef('http://www.madrid.limpiezaurbana.es/Distrito/Puente%20de%20Vallecas'), rdflib.term.Literal('Puente de Vallecas'), rdflib.term.Literal('13'))\n",
            "(rdflib.term.URIRef('http://www.madrid.limpiezaurbana.es/Distrito/Villaverde'), rdflib.term.Literal('Villaverde'), rdflib.term.Literal('17'))\n",
            "(rdflib.term.URIRef('http://www.madrid.limpiezaurbana.es/Distrito/Chamber%C3%AD'), rdflib.term.Literal('Chamberí'), rdflib.term.Literal('7'))\n",
            "(rdflib.term.URIRef('http://www.madrid.limpiezaurbana.es/Distrito/Salamanca'), rdflib.term.Literal('Salamanca'), rdflib.term.Literal('4'))\n",
            "(rdflib.term.URIRef('http://www.madrid.limpiezaurbana.es/Distrito/Vic%C3%A1lvaro'), rdflib.term.Literal('Vicálvaro'), rdflib.term.Literal('19'))\n",
            "(rdflib.term.URIRef('http://www.madrid.limpiezaurbana.es/Distrito/San%20Blas-Canillejas'), rdflib.term.Literal('San Blas-Canillejas'), rdflib.term.Literal('20'))\n",
            "(rdflib.term.URIRef('http://www.madrid.limpiezaurbana.es/Distrito/Ciudad%20Lineal'), rdflib.term.Literal('Ciudad Lineal'), rdflib.term.Literal('15'))\n",
            "(rdflib.term.URIRef('http://www.madrid.limpiezaurbana.es/Distrito/Arganzuela'), rdflib.term.Literal('Arganzuela'), rdflib.term.Literal('2'))\n",
            "(rdflib.term.URIRef('http://www.madrid.limpiezaurbana.es/Distrito/Villa%20de%20Vallecas'), rdflib.term.Literal('Villa de Vallecas'), rdflib.term.Literal('18'))\n",
            "(rdflib.term.URIRef('http://www.madrid.limpiezaurbana.es/Distrito/Centro'), rdflib.term.Literal('Centro'), rdflib.term.Literal('1'))\n",
            "(rdflib.term.URIRef('http://www.madrid.limpiezaurbana.es/Distrito/Barajas'), rdflib.term.Literal('Barajas'), rdflib.term.Literal('21'))\n",
            "(rdflib.term.URIRef('http://www.madrid.limpiezaurbana.es/Distrito/Moncloa-Aravaca'), rdflib.term.Literal('Moncloa-Aravaca'), rdflib.term.Literal('9'))\n",
            "(rdflib.term.URIRef('http://www.madrid.limpiezaurbana.es/Distrito/Tetu%C3%A1n'), rdflib.term.Literal('Tetuán'), rdflib.term.Literal('6'))\n",
            "(rdflib.term.URIRef('http://www.madrid.limpiezaurbana.es/Distrito/Hortaleza'), rdflib.term.Literal('Hortaleza'), rdflib.term.Literal('16'))\n",
            "(rdflib.term.URIRef('http://www.madrid.limpiezaurbana.es/Distrito/Chamart%C3%ADn'), rdflib.term.Literal('Chamartín'), rdflib.term.Literal('5'))\n",
            "(rdflib.term.URIRef('http://www.madrid.limpiezaurbana.es/Distrito/FUENCARRAL'), rdflib.term.Literal('FUENCARRAL'), rdflib.term.Literal('8'))\n",
            "(rdflib.term.URIRef('http://www.madrid.limpiezaurbana.es/Distrito/Usera'), rdflib.term.Literal('Usera'), rdflib.term.Literal('12'))\n",
            "(rdflib.term.URIRef('http://www.madrid.limpiezaurbana.es/Distrito/Latina'), rdflib.term.Literal('Latina'), rdflib.term.Literal('10'))\n",
            "(rdflib.term.URIRef('http://www.madrid.limpiezaurbana.es/Distrito/Moratalaz'), rdflib.term.Literal('Moratalaz'), rdflib.term.Literal('14'))\n"
          ]
        }
      ]
    },
    {
      "cell_type": "markdown",
      "source": [
        "***2º Query***: da los distritos con su codigo y las basuras que recogen\n"
      ],
      "metadata": {
        "id": "NjJuvsvLtifj"
      }
    },
    {
      "cell_type": "code",
      "source": [
        "q2=prepareQuery('''\n",
        "SELECT DISTINCT ?distrito ?codigo ?basura\n",
        "WHERE {\n",
        "   ?distrito a ont:Distrito;\n",
        "            ont:tieneUnCodigo ?codigo;\n",
        "             ont:seRecoge ?basura.\n",
        "\n",
        "\n",
        "}\n",
        "LIMIT 14\n",
        "  ''',\n",
        "  initNs = { \"rdf\": RDF, \"rdfs\": RDFS, \"foaf\":FOAF, \"ont\":ont}\n",
        ")\n",
        "\n",
        "for r in g.query(q2):\n",
        "  print(r)"
      ],
      "metadata": {
        "colab": {
          "base_uri": "https://localhost:8080/"
        },
        "id": "SBrrPRXxrHN6",
        "outputId": "e853dcad-a41b-4752-ea8c-0cdfca2d7704"
      },
      "execution_count": 85,
      "outputs": [
        {
          "output_type": "stream",
          "name": "stdout",
          "text": [
            "(rdflib.term.URIRef('http://www.madrid.limpiezaurbana.es/Distrito/Carabanchel'), rdflib.term.Literal('11'), rdflib.term.URIRef('http://www.madrid.limpiezaurbana.es/Basura/Mueble'))\n",
            "(rdflib.term.URIRef('http://www.madrid.limpiezaurbana.es/Distrito/Carabanchel'), rdflib.term.Literal('11'), rdflib.term.URIRef('http://www.madrid.limpiezaurbana.es/Basura/Papel_y_Carton'))\n",
            "(rdflib.term.URIRef('http://www.madrid.limpiezaurbana.es/Distrito/Carabanchel'), rdflib.term.Literal('11'), rdflib.term.URIRef('http://www.madrid.limpiezaurbana.es/Basura/Bolsas_caninas'))\n",
            "(rdflib.term.URIRef('http://www.madrid.limpiezaurbana.es/Distrito/Carabanchel'), rdflib.term.Literal('11'), rdflib.term.URIRef('http://www.madrid.limpiezaurbana.es/Basura/Envase'))\n",
            "(rdflib.term.URIRef('http://www.madrid.limpiezaurbana.es/Distrito/Retiro'), rdflib.term.Literal('3'), rdflib.term.URIRef('http://www.madrid.limpiezaurbana.es/Basura/Envase'))\n",
            "(rdflib.term.URIRef('http://www.madrid.limpiezaurbana.es/Distrito/Retiro'), rdflib.term.Literal('3'), rdflib.term.URIRef('http://www.madrid.limpiezaurbana.es/Basura/Papel_y_Carton'))\n",
            "(rdflib.term.URIRef('http://www.madrid.limpiezaurbana.es/Distrito/Retiro'), rdflib.term.Literal('3'), rdflib.term.URIRef('http://www.madrid.limpiezaurbana.es/Basura/Bolsas_caninas'))\n",
            "(rdflib.term.URIRef('http://www.madrid.limpiezaurbana.es/Distrito/Retiro'), rdflib.term.Literal('3'), rdflib.term.URIRef('http://www.madrid.limpiezaurbana.es/Basura/Mueble'))\n",
            "(rdflib.term.URIRef('http://www.madrid.limpiezaurbana.es/Distrito/Puente%20de%20Vallecas'), rdflib.term.Literal('13'), rdflib.term.URIRef('http://www.madrid.limpiezaurbana.es/Basura/Envase'))\n",
            "(rdflib.term.URIRef('http://www.madrid.limpiezaurbana.es/Distrito/Puente%20de%20Vallecas'), rdflib.term.Literal('13'), rdflib.term.URIRef('http://www.madrid.limpiezaurbana.es/Basura/Bolsas_caninas'))\n",
            "(rdflib.term.URIRef('http://www.madrid.limpiezaurbana.es/Distrito/Puente%20de%20Vallecas'), rdflib.term.Literal('13'), rdflib.term.URIRef('http://www.madrid.limpiezaurbana.es/Basura/Mueble'))\n",
            "(rdflib.term.URIRef('http://www.madrid.limpiezaurbana.es/Distrito/Puente%20de%20Vallecas'), rdflib.term.Literal('13'), rdflib.term.URIRef('http://www.madrid.limpiezaurbana.es/Basura/Papel_y_Carton'))\n",
            "(rdflib.term.URIRef('http://www.madrid.limpiezaurbana.es/Distrito/Villaverde'), rdflib.term.Literal('17'), rdflib.term.URIRef('http://www.madrid.limpiezaurbana.es/Basura/Mueble'))\n",
            "(rdflib.term.URIRef('http://www.madrid.limpiezaurbana.es/Distrito/Villaverde'), rdflib.term.Literal('17'), rdflib.term.URIRef('http://www.madrid.limpiezaurbana.es/Basura/Papel_y_Carton'))\n"
          ]
        }
      ]
    },
    {
      "cell_type": "markdown",
      "source": [
        "***3º QUERY***: te den los distritos con mas basura recogida"
      ],
      "metadata": {
        "id": "hs5wyF3KtvZi"
      }
    },
    {
      "cell_type": "code",
      "source": [
        "q2=prepareQuery('''\n",
        "SELECT ?distrito ?basura ?TOTAL ?mes\n",
        "WHERE {\n",
        "   ?distrito a ont:Distrito;\n",
        "             ont:seRecoge ?basura.\n",
        "   ?basura ont:tieneUnTotalDe ?total.\n",
        "   ?total ont:tieneUnTotalDe ?TOTAL;\n",
        "          ont:cuandoSeRecoge ?mes.\n",
        "}\n",
        "ORDER BY DESC(?TOTAL)\n",
        "LIMIT 14\n",
        "\n",
        "  ''',\n",
        "  initNs = { \"rdf\": RDF, \"rdfs\": RDFS, \"foaf\":FOAF, \"ont\":ont, \"xsd\":XSD}\n",
        ")\n",
        "\n",
        "for r in g.query(q2):\n",
        "  print(r)"
      ],
      "metadata": {
        "id": "M7DMIfvpt52h",
        "colab": {
          "base_uri": "https://localhost:8080/"
        },
        "outputId": "a8fdffa3-8ef3-477a-ac61-e481a655dc53"
      },
      "execution_count": 86,
      "outputs": [
        {
          "output_type": "stream",
          "name": "stdout",
          "text": [
            "(rdflib.term.URIRef('http://www.madrid.limpiezaurbana.es/Distrito/Carabanchel'), rdflib.term.URIRef('http://www.madrid.limpiezaurbana.es/Basura/Mueble'), rdflib.term.Literal('98.6'), rdflib.term.URIRef('http://www.madrid.limpiezaurbana.es/Mes/June'))\n",
            "(rdflib.term.URIRef('http://www.madrid.limpiezaurbana.es/Distrito/Carabanchel'), rdflib.term.URIRef('http://www.madrid.limpiezaurbana.es/Basura/Mueble'), rdflib.term.Literal('98.6'), rdflib.term.URIRef('http://www.madrid.limpiezaurbana.es/Mes/October'))\n",
            "(rdflib.term.URIRef('http://www.madrid.limpiezaurbana.es/Distrito/Carabanchel'), rdflib.term.URIRef('http://www.madrid.limpiezaurbana.es/Basura/Mueble'), rdflib.term.Literal('98.6'), rdflib.term.URIRef('http://www.madrid.limpiezaurbana.es/Mes/July'))\n",
            "(rdflib.term.URIRef('http://www.madrid.limpiezaurbana.es/Distrito/Carabanchel'), rdflib.term.URIRef('http://www.madrid.limpiezaurbana.es/Basura/Mueble'), rdflib.term.Literal('98.6'), rdflib.term.URIRef('http://www.madrid.limpiezaurbana.es/Mes/February'))\n",
            "(rdflib.term.URIRef('http://www.madrid.limpiezaurbana.es/Distrito/Carabanchel'), rdflib.term.URIRef('http://www.madrid.limpiezaurbana.es/Basura/Mueble'), rdflib.term.Literal('98.6'), rdflib.term.URIRef('http://www.madrid.limpiezaurbana.es/Mes/May'))\n",
            "(rdflib.term.URIRef('http://www.madrid.limpiezaurbana.es/Distrito/Carabanchel'), rdflib.term.URIRef('http://www.madrid.limpiezaurbana.es/Basura/Mueble'), rdflib.term.Literal('98.6'), rdflib.term.URIRef('http://www.madrid.limpiezaurbana.es/Mes/December'))\n",
            "(rdflib.term.URIRef('http://www.madrid.limpiezaurbana.es/Distrito/Carabanchel'), rdflib.term.URIRef('http://www.madrid.limpiezaurbana.es/Basura/Mueble'), rdflib.term.Literal('98.6'), rdflib.term.URIRef('http://www.madrid.limpiezaurbana.es/Mes/March'))\n",
            "(rdflib.term.URIRef('http://www.madrid.limpiezaurbana.es/Distrito/Carabanchel'), rdflib.term.URIRef('http://www.madrid.limpiezaurbana.es/Basura/Mueble'), rdflib.term.Literal('98.6'), rdflib.term.URIRef('http://www.madrid.limpiezaurbana.es/Mes/January'))\n",
            "(rdflib.term.URIRef('http://www.madrid.limpiezaurbana.es/Distrito/Carabanchel'), rdflib.term.URIRef('http://www.madrid.limpiezaurbana.es/Basura/Mueble'), rdflib.term.Literal('98.6'), rdflib.term.URIRef('http://www.madrid.limpiezaurbana.es/Mes/September'))\n",
            "(rdflib.term.URIRef('http://www.madrid.limpiezaurbana.es/Distrito/Carabanchel'), rdflib.term.URIRef('http://www.madrid.limpiezaurbana.es/Basura/Mueble'), rdflib.term.Literal('98.6'), rdflib.term.URIRef('http://www.madrid.limpiezaurbana.es/Mes/November'))\n",
            "(rdflib.term.URIRef('http://www.madrid.limpiezaurbana.es/Distrito/Carabanchel'), rdflib.term.URIRef('http://www.madrid.limpiezaurbana.es/Basura/Mueble'), rdflib.term.Literal('98.6'), rdflib.term.URIRef('http://www.madrid.limpiezaurbana.es/Mes/April'))\n",
            "(rdflib.term.URIRef('http://www.madrid.limpiezaurbana.es/Distrito/Carabanchel'), rdflib.term.URIRef('http://www.madrid.limpiezaurbana.es/Basura/Mueble'), rdflib.term.Literal('98.6'), rdflib.term.URIRef('http://www.madrid.limpiezaurbana.es/Mes/August'))\n",
            "(rdflib.term.URIRef('http://www.madrid.limpiezaurbana.es/Distrito/Retiro'), rdflib.term.URIRef('http://www.madrid.limpiezaurbana.es/Basura/Mueble'), rdflib.term.Literal('98.6'), rdflib.term.URIRef('http://www.madrid.limpiezaurbana.es/Mes/June'))\n",
            "(rdflib.term.URIRef('http://www.madrid.limpiezaurbana.es/Distrito/Retiro'), rdflib.term.URIRef('http://www.madrid.limpiezaurbana.es/Basura/Mueble'), rdflib.term.Literal('98.6'), rdflib.term.URIRef('http://www.madrid.limpiezaurbana.es/Mes/October'))\n"
          ]
        }
      ]
    },
    {
      "cell_type": "markdown",
      "source": [
        "***4º Query***: Obtener la basura y su total de cada mes, del distrito Moratalaz\n",
        "\n"
      ],
      "metadata": {
        "id": "8j2dENtrAOSF"
      }
    },
    {
      "cell_type": "code",
      "source": [
        "q4=prepareQuery('''\n",
        "SELECT DISTINCT ?basura ?mes ?total\n",
        "WHERE {\n",
        "   <http://www.madrid.limpiezaurbana.es/Distrito/Moratalaz> ont:seRecoge ?basura.\n",
        "   ?basura ont:tieneUnTotalDe ?total.\n",
        "   ?total ont:cuandoSeRecoge ?mes;\n",
        "         ont:tieneUnTotalDe ?TOTAL.\n",
        "}\n",
        "LIMIT 30\n",
        "  ''',\n",
        "  initNs = { \"rdf\": RDF, \"rdfs\": RDFS, \"foaf\":FOAF, \"ont\":ont}\n",
        ")\n",
        "\n",
        "for r in g.query(q4):\n",
        "  print(r)"
      ],
      "metadata": {
        "id": "F583P_NrAZD9",
        "colab": {
          "base_uri": "https://localhost:8080/"
        },
        "outputId": "22553673-6261-4597-b939-1345b14b5b66"
      },
      "execution_count": 87,
      "outputs": [
        {
          "output_type": "stream",
          "name": "stdout",
          "text": [
            "(rdflib.term.URIRef('http://www.madrid.limpiezaurbana.es/Basura/Papel_y_Carton'), rdflib.term.URIRef('http://www.madrid.limpiezaurbana.es/Mes/February'), rdflib.term.URIRef('http://www.madrid.limpiezaurbana.es/Total/Papel_y_Carton'))\n",
            "(rdflib.term.URIRef('http://www.madrid.limpiezaurbana.es/Basura/Papel_y_Carton'), rdflib.term.URIRef('http://www.madrid.limpiezaurbana.es/Mes/May'), rdflib.term.URIRef('http://www.madrid.limpiezaurbana.es/Total/Papel_y_Carton'))\n",
            "(rdflib.term.URIRef('http://www.madrid.limpiezaurbana.es/Basura/Papel_y_Carton'), rdflib.term.URIRef('http://www.madrid.limpiezaurbana.es/Mes/July'), rdflib.term.URIRef('http://www.madrid.limpiezaurbana.es/Total/Papel_y_Carton'))\n",
            "(rdflib.term.URIRef('http://www.madrid.limpiezaurbana.es/Basura/Papel_y_Carton'), rdflib.term.URIRef('http://www.madrid.limpiezaurbana.es/Mes/April'), rdflib.term.URIRef('http://www.madrid.limpiezaurbana.es/Total/Papel_y_Carton'))\n",
            "(rdflib.term.URIRef('http://www.madrid.limpiezaurbana.es/Basura/Papel_y_Carton'), rdflib.term.URIRef('http://www.madrid.limpiezaurbana.es/Mes/August'), rdflib.term.URIRef('http://www.madrid.limpiezaurbana.es/Total/Papel_y_Carton'))\n",
            "(rdflib.term.URIRef('http://www.madrid.limpiezaurbana.es/Basura/Papel_y_Carton'), rdflib.term.URIRef('http://www.madrid.limpiezaurbana.es/Mes/January'), rdflib.term.URIRef('http://www.madrid.limpiezaurbana.es/Total/Papel_y_Carton'))\n",
            "(rdflib.term.URIRef('http://www.madrid.limpiezaurbana.es/Basura/Papel_y_Carton'), rdflib.term.URIRef('http://www.madrid.limpiezaurbana.es/Mes/October'), rdflib.term.URIRef('http://www.madrid.limpiezaurbana.es/Total/Papel_y_Carton'))\n",
            "(rdflib.term.URIRef('http://www.madrid.limpiezaurbana.es/Basura/Papel_y_Carton'), rdflib.term.URIRef('http://www.madrid.limpiezaurbana.es/Mes/June'), rdflib.term.URIRef('http://www.madrid.limpiezaurbana.es/Total/Papel_y_Carton'))\n",
            "(rdflib.term.URIRef('http://www.madrid.limpiezaurbana.es/Basura/Papel_y_Carton'), rdflib.term.URIRef('http://www.madrid.limpiezaurbana.es/Mes/November'), rdflib.term.URIRef('http://www.madrid.limpiezaurbana.es/Total/Papel_y_Carton'))\n",
            "(rdflib.term.URIRef('http://www.madrid.limpiezaurbana.es/Basura/Papel_y_Carton'), rdflib.term.URIRef('http://www.madrid.limpiezaurbana.es/Mes/March'), rdflib.term.URIRef('http://www.madrid.limpiezaurbana.es/Total/Papel_y_Carton'))\n",
            "(rdflib.term.URIRef('http://www.madrid.limpiezaurbana.es/Basura/Papel_y_Carton'), rdflib.term.URIRef('http://www.madrid.limpiezaurbana.es/Mes/September'), rdflib.term.URIRef('http://www.madrid.limpiezaurbana.es/Total/Papel_y_Carton'))\n",
            "(rdflib.term.URIRef('http://www.madrid.limpiezaurbana.es/Basura/Papel_y_Carton'), rdflib.term.URIRef('http://www.madrid.limpiezaurbana.es/Mes/December'), rdflib.term.URIRef('http://www.madrid.limpiezaurbana.es/Total/Papel_y_Carton'))\n",
            "(rdflib.term.URIRef('http://www.madrid.limpiezaurbana.es/Basura/Bolsas_caninas'), rdflib.term.URIRef('http://www.madrid.limpiezaurbana.es/Mes/May'), rdflib.term.URIRef('http://www.madrid.limpiezaurbana.es/Total/Bolsas_caninas'))\n",
            "(rdflib.term.URIRef('http://www.madrid.limpiezaurbana.es/Basura/Bolsas_caninas'), rdflib.term.URIRef('http://www.madrid.limpiezaurbana.es/Mes/November'), rdflib.term.URIRef('http://www.madrid.limpiezaurbana.es/Total/Bolsas_caninas'))\n",
            "(rdflib.term.URIRef('http://www.madrid.limpiezaurbana.es/Basura/Bolsas_caninas'), rdflib.term.URIRef('http://www.madrid.limpiezaurbana.es/Mes/January'), rdflib.term.URIRef('http://www.madrid.limpiezaurbana.es/Total/Bolsas_caninas'))\n",
            "(rdflib.term.URIRef('http://www.madrid.limpiezaurbana.es/Basura/Bolsas_caninas'), rdflib.term.URIRef('http://www.madrid.limpiezaurbana.es/Mes/October'), rdflib.term.URIRef('http://www.madrid.limpiezaurbana.es/Total/Bolsas_caninas'))\n",
            "(rdflib.term.URIRef('http://www.madrid.limpiezaurbana.es/Basura/Bolsas_caninas'), rdflib.term.URIRef('http://www.madrid.limpiezaurbana.es/Mes/December'), rdflib.term.URIRef('http://www.madrid.limpiezaurbana.es/Total/Bolsas_caninas'))\n",
            "(rdflib.term.URIRef('http://www.madrid.limpiezaurbana.es/Basura/Bolsas_caninas'), rdflib.term.URIRef('http://www.madrid.limpiezaurbana.es/Mes/July'), rdflib.term.URIRef('http://www.madrid.limpiezaurbana.es/Total/Bolsas_caninas'))\n",
            "(rdflib.term.URIRef('http://www.madrid.limpiezaurbana.es/Basura/Bolsas_caninas'), rdflib.term.URIRef('http://www.madrid.limpiezaurbana.es/Mes/February'), rdflib.term.URIRef('http://www.madrid.limpiezaurbana.es/Total/Bolsas_caninas'))\n",
            "(rdflib.term.URIRef('http://www.madrid.limpiezaurbana.es/Basura/Bolsas_caninas'), rdflib.term.URIRef('http://www.madrid.limpiezaurbana.es/Mes/September'), rdflib.term.URIRef('http://www.madrid.limpiezaurbana.es/Total/Bolsas_caninas'))\n",
            "(rdflib.term.URIRef('http://www.madrid.limpiezaurbana.es/Basura/Bolsas_caninas'), rdflib.term.URIRef('http://www.madrid.limpiezaurbana.es/Mes/June'), rdflib.term.URIRef('http://www.madrid.limpiezaurbana.es/Total/Bolsas_caninas'))\n",
            "(rdflib.term.URIRef('http://www.madrid.limpiezaurbana.es/Basura/Bolsas_caninas'), rdflib.term.URIRef('http://www.madrid.limpiezaurbana.es/Mes/March'), rdflib.term.URIRef('http://www.madrid.limpiezaurbana.es/Total/Bolsas_caninas'))\n",
            "(rdflib.term.URIRef('http://www.madrid.limpiezaurbana.es/Basura/Bolsas_caninas'), rdflib.term.URIRef('http://www.madrid.limpiezaurbana.es/Mes/August'), rdflib.term.URIRef('http://www.madrid.limpiezaurbana.es/Total/Bolsas_caninas'))\n",
            "(rdflib.term.URIRef('http://www.madrid.limpiezaurbana.es/Basura/Bolsas_caninas'), rdflib.term.URIRef('http://www.madrid.limpiezaurbana.es/Mes/April'), rdflib.term.URIRef('http://www.madrid.limpiezaurbana.es/Total/Bolsas_caninas'))\n",
            "(rdflib.term.URIRef('http://www.madrid.limpiezaurbana.es/Basura/Mueble'), rdflib.term.URIRef('http://www.madrid.limpiezaurbana.es/Mes/June'), rdflib.term.URIRef('http://www.madrid.limpiezaurbana.es/Total/Mueble'))\n",
            "(rdflib.term.URIRef('http://www.madrid.limpiezaurbana.es/Basura/Mueble'), rdflib.term.URIRef('http://www.madrid.limpiezaurbana.es/Mes/October'), rdflib.term.URIRef('http://www.madrid.limpiezaurbana.es/Total/Mueble'))\n",
            "(rdflib.term.URIRef('http://www.madrid.limpiezaurbana.es/Basura/Mueble'), rdflib.term.URIRef('http://www.madrid.limpiezaurbana.es/Mes/July'), rdflib.term.URIRef('http://www.madrid.limpiezaurbana.es/Total/Mueble'))\n",
            "(rdflib.term.URIRef('http://www.madrid.limpiezaurbana.es/Basura/Mueble'), rdflib.term.URIRef('http://www.madrid.limpiezaurbana.es/Mes/February'), rdflib.term.URIRef('http://www.madrid.limpiezaurbana.es/Total/Mueble'))\n",
            "(rdflib.term.URIRef('http://www.madrid.limpiezaurbana.es/Basura/Mueble'), rdflib.term.URIRef('http://www.madrid.limpiezaurbana.es/Mes/May'), rdflib.term.URIRef('http://www.madrid.limpiezaurbana.es/Total/Mueble'))\n",
            "(rdflib.term.URIRef('http://www.madrid.limpiezaurbana.es/Basura/Mueble'), rdflib.term.URIRef('http://www.madrid.limpiezaurbana.es/Mes/December'), rdflib.term.URIRef('http://www.madrid.limpiezaurbana.es/Total/Mueble'))\n"
          ]
        }
      ]
    },
    {
      "cell_type": "markdown",
      "source": [
        "***5º QUERY***: Da el distrito y su uri en wikidata"
      ],
      "metadata": {
        "id": "FquXwFOetABI"
      }
    },
    {
      "cell_type": "code",
      "source": [
        "q5=prepareQuery('''\n",
        "PREFIX owl: <http://www.w3.org/2002/07/owl#>\n",
        "\n",
        "SELECT ?distrito ?wikidataUri\n",
        "WHERE {\n",
        "  ?distrito owl:same_as ?wikidataUri.\n",
        "}\n",
        "LIMIT 10\n",
        "''')\n",
        "for r in g.query(q5):\n",
        "  print(r)"
      ],
      "metadata": {
        "id": "lDQ1F5vJrmwv",
        "outputId": "cc50238f-2fca-4e04-a7fb-62db1856b333",
        "colab": {
          "base_uri": "https://localhost:8080/"
        }
      },
      "execution_count": 93,
      "outputs": [
        {
          "output_type": "stream",
          "name": "stdout",
          "text": [
            "(rdflib.term.URIRef('http://www.madrid.limpiezaurbana.es/Distrito/Arganzuela'), rdflib.term.URIRef('https://www.wikidata.org/wiki/Q2000929'))\n",
            "(rdflib.term.URIRef('http://www.madrid.limpiezaurbana.es/Distrito/Villa%20de%20Vallecas'), rdflib.term.URIRef('https://www.wikidata.org/wiki/Q1947988'))\n",
            "(rdflib.term.URIRef('http://www.madrid.limpiezaurbana.es/Distrito/Tetu%C3%A1n'), rdflib.term.URIRef('https://www.wikidata.org/wiki/Q1773540'))\n",
            "(rdflib.term.URIRef('http://www.madrid.limpiezaurbana.es/Distrito/Centro'), rdflib.term.URIRef('https://www.wikidata.org/wiki/Q1763376'))\n",
            "(rdflib.term.URIRef('http://www.madrid.limpiezaurbana.es/Distrito/Carabanchel'), rdflib.term.URIRef('https://www.wikidata.org/wiki/Q1001991'))\n",
            "(rdflib.term.URIRef('http://www.madrid.limpiezaurbana.es/Distrito/Barajas'), rdflib.term.URIRef('https://www.wikidata.org/wiki/Q807230'))\n",
            "(rdflib.term.URIRef('http://www.madrid.limpiezaurbana.es/Distrito/Moncloa-Aravaca'), rdflib.term.URIRef('https://www.wikidata.org/wiki/Q2017682'))\n",
            "(rdflib.term.URIRef('http://www.madrid.limpiezaurbana.es/Distrito/Puente%20de%20Vallecas'), rdflib.term.URIRef('https://www.wikidata.org/wiki/Q2003054'))\n",
            "(rdflib.term.URIRef('http://www.madrid.limpiezaurbana.es/Distrito/Ciudad%20Lineal'), rdflib.term.URIRef('https://www.wikidata.org/wiki/Q1763694'))\n",
            "(rdflib.term.URIRef('http://www.madrid.limpiezaurbana.es/Distrito/Villaverde'), rdflib.term.URIRef('https://www.wikidata.org/wiki/Q919536'))\n"
          ]
        }
      ]
    },
    {
      "cell_type": "markdown",
      "source": [
        "***6º QUERY***: Da el mes y su uri en wikidata"
      ],
      "metadata": {
        "id": "LrMCVQAluhfp"
      }
    },
    {
      "cell_type": "code",
      "source": [
        "q6=prepareQuery('''\n",
        "PREFIX owl: <http://www.w3.org/2002/07/owl#>\n",
        "\n",
        "SELECT ?mes ?wikidataMes\n",
        "WHERE {\n",
        "  ?distrito owl:same_as ?wikidataUri;\n",
        "            ont:seRecoge ?basura.\n",
        "  ?basura ont:tieneUnTotalDe ?total.\n",
        "  ?total ont:cuandoSeRecoge ?mes.\n",
        "  ?mes owl:same_as ?wikidataMes.\n",
        "}\n",
        "LIMIT 10\n",
        "''',\n",
        "  initNs = { \"rdf\": RDF, \"rdfs\": RDFS, \"foaf\":FOAF, \"ont\":ont}\n",
        ")\n",
        "\n",
        "for r in g.query(q6):\n",
        "  print(r)"
      ],
      "metadata": {
        "id": "NXQht9SPtnQT",
        "outputId": "48758e2f-73a7-4174-9c85-587bdff48c42",
        "colab": {
          "base_uri": "https://localhost:8080/"
        }
      },
      "execution_count": 98,
      "outputs": [
        {
          "output_type": "stream",
          "name": "stdout",
          "text": [
            "(rdflib.term.URIRef('http://www.madrid.limpiezaurbana.es/Mes/June'), rdflib.term.URIRef('https://www.wikidata.org/wiki/Q120'))\n",
            "(rdflib.term.URIRef('http://www.madrid.limpiezaurbana.es/Mes/October'), rdflib.term.URIRef('https://www.wikidata.org/wiki/Q124'))\n",
            "(rdflib.term.URIRef('http://www.madrid.limpiezaurbana.es/Mes/July'), rdflib.term.URIRef('https://www.wikidata.org/wiki/Q121'))\n",
            "(rdflib.term.URIRef('http://www.madrid.limpiezaurbana.es/Mes/February'), rdflib.term.URIRef('https://www.wikidata.org/wiki/Q109'))\n",
            "(rdflib.term.URIRef('http://www.madrid.limpiezaurbana.es/Mes/May'), rdflib.term.URIRef('https://www.wikidata.org/wiki/Q119'))\n",
            "(rdflib.term.URIRef('http://www.madrid.limpiezaurbana.es/Mes/December'), rdflib.term.URIRef('https://www.wikidata.org/wiki/Q126'))\n",
            "(rdflib.term.URIRef('http://www.madrid.limpiezaurbana.es/Mes/March'), rdflib.term.URIRef('https://www.wikidata.org/wiki/Q110'))\n",
            "(rdflib.term.URIRef('http://www.madrid.limpiezaurbana.es/Mes/January'), rdflib.term.URIRef('https://www.wikidata.org/wiki/Q108'))\n",
            "(rdflib.term.URIRef('http://www.madrid.limpiezaurbana.es/Mes/September'), rdflib.term.URIRef('https://www.wikidata.org/wiki/Q123'))\n",
            "(rdflib.term.URIRef('http://www.madrid.limpiezaurbana.es/Mes/November'), rdflib.term.URIRef('https://www.wikidata.org/wiki/Q125'))\n"
          ]
        }
      ]
    }
  ]
}