{
  "nbformat": 4,
  "nbformat_minor": 0,
  "metadata": {
    "colab": {
      "provenance": []
    },
    "kernelspec": {
      "name": "python3",
      "display_name": "Python 3"
    },
    "language_info": {
      "name": "python"
    }
  },
  "cells": [
    {
      "cell_type": "code",
      "execution_count": 16,
      "metadata": {
        "colab": {
          "base_uri": "https://localhost:8080/"
        },
        "id": "sEv3vfVXS4gM",
        "outputId": "c62b70ad-624c-430c-cd48-9d8536e8bb44"
      },
      "outputs": [
        {
          "output_type": "stream",
          "name": "stdout",
          "text": [
            "Requirement already satisfied: rdflib in /usr/local/lib/python3.10/dist-packages (7.0.0)\n",
            "Requirement already satisfied: isodate<0.7.0,>=0.6.0 in /usr/local/lib/python3.10/dist-packages (from rdflib) (0.6.1)\n",
            "Requirement already satisfied: pyparsing<4,>=2.1.0 in /usr/local/lib/python3.10/dist-packages (from rdflib) (3.1.1)\n",
            "Requirement already satisfied: six in /usr/local/lib/python3.10/dist-packages (from isodate<0.7.0,>=0.6.0->rdflib) (1.16.0)\n"
          ]
        }
      ],
      "source": [
        "!pip install rdflib"
      ]
    },
    {
      "cell_type": "code",
      "source": [
        "from rdflib import Graph, Namespace, Literal\n",
        "from rdflib.namespace  import RDF, RDFS, FOAF\n",
        "from rdflib.plugins.sparql import prepareQuery"
      ],
      "metadata": {
        "id": "G3HjiYmGTeJl"
      },
      "execution_count": 17,
      "outputs": []
    },
    {
      "cell_type": "code",
      "source": [
        "from google.colab import drive\n",
        "drive.mount('/content/drive')"
      ],
      "metadata": {
        "colab": {
          "base_uri": "https://localhost:8080/"
        },
        "id": "MFYB-ACtTeLN",
        "outputId": "a9152418-bf17-4f60-97d0-868dd27edf7a"
      },
      "execution_count": 18,
      "outputs": [
        {
          "output_type": "stream",
          "name": "stdout",
          "text": [
            "Drive already mounted at /content/drive; to attempt to forcibly remount, call drive.mount(\"/content/drive\", force_remount=True).\n"
          ]
        }
      ]
    },
    {
      "cell_type": "code",
      "source": [
        "g = Graph()\n",
        "g.namespace_manager.bind('ont', Namespace('http://www.madrid.limpiezaurbana.es/ontology#'), override=False)\n",
        "g.namespace_manager.bind('xsd', Namespace('http://www.w3.org/2001/XMLSchema#'), override=False)\n",
        "ubi='/content/drive/MyDrive/queries/result.nt'\n",
        "g.parse(ubi, format=\"nt\")"
      ],
      "metadata": {
        "colab": {
          "base_uri": "https://localhost:8080/"
        },
        "id": "SrNaRw19TjcD",
        "outputId": "9e2d1bed-491e-4233-ce7d-9ccb5d66badd"
      },
      "execution_count": 19,
      "outputs": [
        {
          "output_type": "execute_result",
          "data": {
            "text/plain": [
              "<Graph identifier=N7e054bb4814f484cb6c868e4480bb2b7 (<class 'rdflib.graph.Graph'>)>"
            ]
          },
          "metadata": {},
          "execution_count": 19
        }
      ]
    },
    {
      "cell_type": "code",
      "source": [
        "ont=Namespace(\"http://www.madrid.limpiezaurbana.es/ontology#\")"
      ],
      "metadata": {
        "id": "fjMpqYlxTnAQ"
      },
      "execution_count": 20,
      "outputs": []
    },
    {
      "cell_type": "markdown",
      "source": [
        "Query Distrito y uri"
      ],
      "metadata": {
        "id": "wRRPM0bPo9ug"
      }
    },
    {
      "cell_type": "code",
      "source": [
        "#Distrito y uri\n",
        "q1=prepareQuery('''\n",
        "SELECT ?districtName ?districtURI\n",
        "WHERE {\n",
        "  ?districtURI foaf:name ?districtName .\n",
        "}\n",
        "  ''',\n",
        "  initNs = { \"rdf\": RDF, \"rdfs\": RDFS, \"foaf\":FOAF, \"ont\":ont}\n",
        ")\n",
        "\n",
        "for r in g.query(q1):\n",
        "  print(r)"
      ],
      "metadata": {
        "colab": {
          "base_uri": "https://localhost:8080/"
        },
        "id": "5_98OGq-TnC4",
        "outputId": "5d57469c-56b1-4a0b-f468-3e129ec55f50"
      },
      "execution_count": 21,
      "outputs": [
        {
          "output_type": "stream",
          "name": "stdout",
          "text": [
            "(rdflib.term.Literal('PUENTE DE VALLECAS '), rdflib.term.URIRef('http://www.madrid.limpiezaurbana.es/Distrito/PUENTE%20DE%20VALLECAS%20'))\n",
            "(rdflib.term.Literal('USERA'), rdflib.term.URIRef('http://www.madrid.limpiezaurbana.es/Distrito/USERA'))\n",
            "(rdflib.term.Literal('SAN BLAS'), rdflib.term.URIRef('http://www.madrid.limpiezaurbana.es/Distrito/SAN%20BLAS'))\n",
            "(rdflib.term.Literal('MONCLOA'), rdflib.term.URIRef('http://www.madrid.limpiezaurbana.es/Distrito/MONCLOA'))\n",
            "(rdflib.term.Literal('ARGANZUELA'), rdflib.term.URIRef('http://www.madrid.limpiezaurbana.es/Distrito/ARGANZUELA'))\n",
            "(rdflib.term.Literal('PUENTE DE VALLECAS'), rdflib.term.URIRef('http://www.madrid.limpiezaurbana.es/Distrito/PUENTE%20DE%20VALLECAS'))\n",
            "(rdflib.term.Literal('TETUÁN'), rdflib.term.URIRef('http://www.madrid.limpiezaurbana.es/Distrito/TETU%C3%81N'))\n",
            "(rdflib.term.Literal('FUENCARRAL'), rdflib.term.URIRef('http://www.madrid.limpiezaurbana.es/Distrito/FUENCARRAL'))\n",
            "(rdflib.term.Literal('LATINA'), rdflib.term.URIRef('http://www.madrid.limpiezaurbana.es/Distrito/LATINA'))\n",
            "(rdflib.term.Literal('HORTALEZA'), rdflib.term.URIRef('http://www.madrid.limpiezaurbana.es/Distrito/HORTALEZA'))\n",
            "(rdflib.term.Literal('SALAMANCA'), rdflib.term.URIRef('http://www.madrid.limpiezaurbana.es/Distrito/SALAMANCA'))\n",
            "(rdflib.term.Literal('CIUDAD LINEAL'), rdflib.term.URIRef('http://www.madrid.limpiezaurbana.es/Distrito/CIUDAD%20LINEAL'))\n",
            "(rdflib.term.Literal('VILLA DE VALLECAS'), rdflib.term.URIRef('http://www.madrid.limpiezaurbana.es/Distrito/VILLA%20DE%20VALLECAS'))\n",
            "(rdflib.term.Literal('VILLAVERDE'), rdflib.term.URIRef('http://www.madrid.limpiezaurbana.es/Distrito/VILLAVERDE'))\n",
            "(rdflib.term.Literal('MORATALAZ'), rdflib.term.URIRef('http://www.madrid.limpiezaurbana.es/Distrito/MORATALAZ'))\n",
            "(rdflib.term.Literal('VICÁLVARO'), rdflib.term.URIRef('http://www.madrid.limpiezaurbana.es/Distrito/VIC%C3%81LVARO'))\n",
            "(rdflib.term.Literal('RETIRO'), rdflib.term.URIRef('http://www.madrid.limpiezaurbana.es/Distrito/RETIRO'))\n",
            "(rdflib.term.Literal('BARAJAS'), rdflib.term.URIRef('http://www.madrid.limpiezaurbana.es/Distrito/BARAJAS'))\n",
            "(rdflib.term.Literal('CHAMARTÍN'), rdflib.term.URIRef('http://www.madrid.limpiezaurbana.es/Distrito/CHAMART%C3%8DN'))\n",
            "(rdflib.term.Literal('CENTRO '), rdflib.term.URIRef('http://www.madrid.limpiezaurbana.es/Distrito/CENTRO%20'))\n",
            "(rdflib.term.Literal('VILLA DE VALLECAS '), rdflib.term.URIRef('http://www.madrid.limpiezaurbana.es/Distrito/VILLA%20DE%20VALLECAS%20'))\n",
            "(rdflib.term.Literal('CARABANCHEL'), rdflib.term.URIRef('http://www.madrid.limpiezaurbana.es/Distrito/CARABANCHEL'))\n",
            "(rdflib.term.Literal('CHAMBERÍ'), rdflib.term.URIRef('http://www.madrid.limpiezaurbana.es/Distrito/CHAMBER%C3%8D'))\n"
          ]
        }
      ]
    },
    {
      "cell_type": "markdown",
      "source": [
        "Query con los códigos de los distritos"
      ],
      "metadata": {
        "id": "uaGFUPmYpIXW"
      }
    },
    {
      "cell_type": "code",
      "source": [
        "#código de los distritos\n",
        "q2=prepareQuery('''\n",
        "SELECT ?distrito ?codigo\n",
        "WHERE {\n",
        "  ?distrito ont:tieneUnCodigo ?codigo.\n",
        "}\n",
        "  ''',\n",
        "  initNs = { \"rdf\": RDF, \"rdfs\": RDFS, \"foaf\":FOAF, \"ont\":ont}\n",
        ")\n",
        "\n",
        "for r in g.query(q2):\n",
        "  print(r)"
      ],
      "metadata": {
        "colab": {
          "base_uri": "https://localhost:8080/"
        },
        "id": "2NUDoS6eUGIt",
        "outputId": "f90b14c4-8651-47d5-f9de-2a71e6c35f83"
      },
      "execution_count": 22,
      "outputs": [
        {
          "output_type": "stream",
          "name": "stdout",
          "text": [
            "(rdflib.term.URIRef('http://www.madrid.limpiezaurbana.es/Distrito/HORTALEZA'), rdflib.term.Literal('16'))\n",
            "(rdflib.term.URIRef('http://www.madrid.limpiezaurbana.es/Distrito/LATINA'), rdflib.term.Literal('10'))\n",
            "(rdflib.term.URIRef('http://www.madrid.limpiezaurbana.es/Distrito/ARGANZUELA'), rdflib.term.Literal('2'))\n",
            "(rdflib.term.URIRef('http://www.madrid.limpiezaurbana.es/Distrito/PUENTE%20DE%20VALLECAS%20'), rdflib.term.Literal('13'))\n",
            "(rdflib.term.URIRef('http://www.madrid.limpiezaurbana.es/Distrito/PUENTE%20DE%20VALLECAS'), rdflib.term.Literal('13'))\n",
            "(rdflib.term.URIRef('http://www.madrid.limpiezaurbana.es/Distrito/CARABANCHEL'), rdflib.term.Literal('11'))\n",
            "(rdflib.term.URIRef('http://www.madrid.limpiezaurbana.es/Distrito/CHAMART%C3%8DN'), rdflib.term.Literal('5'))\n",
            "(rdflib.term.URIRef('http://www.madrid.limpiezaurbana.es/Distrito/BARAJAS'), rdflib.term.Literal('21'))\n",
            "(rdflib.term.URIRef('http://www.madrid.limpiezaurbana.es/Distrito/TETU%C3%81N'), rdflib.term.Literal('6'))\n",
            "(rdflib.term.URIRef('http://www.madrid.limpiezaurbana.es/Distrito/VILLA%20DE%20VALLECAS%20'), rdflib.term.Literal('18'))\n",
            "(rdflib.term.URIRef('http://www.madrid.limpiezaurbana.es/Distrito/VILLA%20DE%20VALLECAS'), rdflib.term.Literal('18'))\n",
            "(rdflib.term.URIRef('http://www.madrid.limpiezaurbana.es/Distrito/FUENCARRAL'), rdflib.term.Literal('8'))\n",
            "(rdflib.term.URIRef('http://www.madrid.limpiezaurbana.es/Distrito/CENTRO%20'), rdflib.term.Literal('1'))\n",
            "(rdflib.term.URIRef('http://www.madrid.limpiezaurbana.es/Distrito/MONCLOA'), rdflib.term.Literal('9'))\n",
            "(rdflib.term.URIRef('http://www.madrid.limpiezaurbana.es/Distrito/SALAMANCA'), rdflib.term.Literal('4'))\n",
            "(rdflib.term.URIRef('http://www.madrid.limpiezaurbana.es/Distrito/RETIRO'), rdflib.term.Literal('3'))\n",
            "(rdflib.term.URIRef('http://www.madrid.limpiezaurbana.es/Distrito/CHAMBER%C3%8D'), rdflib.term.Literal('7'))\n",
            "(rdflib.term.URIRef('http://www.madrid.limpiezaurbana.es/Distrito/CIUDAD%20LINEAL'), rdflib.term.Literal('15'))\n",
            "(rdflib.term.URIRef('http://www.madrid.limpiezaurbana.es/Distrito/VIC%C3%81LVARO'), rdflib.term.Literal('19'))\n",
            "(rdflib.term.URIRef('http://www.madrid.limpiezaurbana.es/Distrito/SAN%20BLAS'), rdflib.term.Literal('20'))\n",
            "(rdflib.term.URIRef('http://www.madrid.limpiezaurbana.es/Distrito/VILLAVERDE'), rdflib.term.Literal('17'))\n",
            "(rdflib.term.URIRef('http://www.madrid.limpiezaurbana.es/Distrito/USERA'), rdflib.term.Literal('12'))\n",
            "(rdflib.term.URIRef('http://www.madrid.limpiezaurbana.es/Distrito/MORATALAZ'), rdflib.term.Literal('14'))\n"
          ]
        }
      ]
    },
    {
      "cell_type": "markdown",
      "source": [
        "Query que de el total de distritos de nuestro csv\n"
      ],
      "metadata": {
        "id": "T6QGcbVKpYSF"
      }
    },
    {
      "cell_type": "code",
      "source": [
        "#Total distritos\n",
        "q3=prepareQuery('''\n",
        "SELECT (COUNT (?distrito) AS ?count)\n",
        "WHERE {\n",
        "  ?distrito rdf:type ont:Distrito .\n",
        "}\n",
        "  ''',\n",
        "  initNs = { \"rdf\": RDF, \"rdfs\": RDFS, \"foaf\":FOAF, \"ont\":ont}\n",
        ")\n",
        "\n",
        "for r in g.query(q3):\n",
        "  print(r)"
      ],
      "metadata": {
        "colab": {
          "base_uri": "https://localhost:8080/"
        },
        "id": "bLucZDIDLWAR",
        "outputId": "906ceb59-e637-43a2-8250-def4123b2c73"
      },
      "execution_count": 23,
      "outputs": [
        {
          "output_type": "stream",
          "name": "stdout",
          "text": [
            "(rdflib.term.Literal('23', datatype=rdflib.term.URIRef('http://www.w3.org/2001/XMLSchema#integer')),)\n"
          ]
        }
      ]
    },
    {
      "cell_type": "markdown",
      "source": [
        "Query de los meses en los que se han recogido los datos"
      ],
      "metadata": {
        "id": "Em33ZKM8pijL"
      }
    },
    {
      "cell_type": "code",
      "source": [
        "#Meses en los que fueron recogidos los datos\n",
        "q4=prepareQuery('''\n",
        "SELECT DISTINCT ?fecha\n",
        "WHERE {\n",
        "  ?distrito a ont:Distrito.\n",
        "  ?distrito ont:seRecoge ?basura.\n",
        "  ?basura ont:tieneUnTotalDe ?totalBasura.\n",
        "  ?totalBasura ont:cuandoSeRecoge ?fecha.\n",
        "}\n",
        "''',initNs = { \"rdf\": RDF, \"rdfs\": RDFS, \"foaf\":FOAF, \"ont\":ont}\n",
        ")\n",
        "\n",
        "for r in g.query(q3):\n",
        "  print(r)"
      ],
      "metadata": {
        "colab": {
          "base_uri": "https://localhost:8080/"
        },
        "id": "Rt36gBz0Lpkw",
        "outputId": "6335d829-7f54-4f69-8408-41b2718784a5"
      },
      "execution_count": 58,
      "outputs": [
        {
          "output_type": "stream",
          "name": "stdout",
          "text": [
            "(rdflib.term.Literal('SEPTIEMBRE'),)\n",
            "(rdflib.term.Literal('FEBRERO'),)\n",
            "(rdflib.term.Literal('DICIEMBRE'),)\n",
            "(rdflib.term.Literal('ABRIL'),)\n",
            "(rdflib.term.Literal('MAYO'),)\n",
            "(rdflib.term.Literal('JULIO'),)\n",
            "(rdflib.term.Literal('NOVIEMBRE'),)\n",
            "(rdflib.term.Literal('AGOSTO'),)\n",
            "(rdflib.term.Literal('OCTUBRE'),)\n",
            "(rdflib.term.Literal('ENERO'),)\n",
            "(rdflib.term.Literal('JUNIO'),)\n",
            "(rdflib.term.Literal('MARZO'),)\n"
          ]
        }
      ]
    },
    {
      "cell_type": "markdown",
      "source": [
        "Query con los tipos de basura del csv"
      ],
      "metadata": {
        "id": "WuUUxpBmp-Ns"
      }
    },
    {
      "cell_type": "code",
      "source": [
        "#Tipos de basura\n",
        "q5=prepareQuery('''\n",
        "SELECT DISTINCT ?tipoBasura\n",
        "WHERE {\n",
        "   ?distrito a ont:Distrito.\n",
        "   ?distrito ont:seRecoge ?basura.\n",
        "   ?basura ont:tieneUnTotalDe ?tipoBasura.\n",
        "}\n",
        "\n",
        "  ''',\n",
        "  initNs = { \"rdf\": RDF, \"rdfs\": RDFS, \"foaf\":FOAF, \"ont\":ont}\n",
        ")\n",
        "\n",
        "for r in g.query(q5):\n",
        "  print(r)\n"
      ],
      "metadata": {
        "colab": {
          "base_uri": "https://localhost:8080/"
        },
        "id": "9BSnatvvTiuE",
        "outputId": "b443f2f8-3b4b-4daa-fdf7-95436b46dcee"
      },
      "execution_count": 57,
      "outputs": [
        {
          "output_type": "stream",
          "name": "stdout",
          "text": [
            "(rdflib.term.URIRef('http://www.madrid.limpiezaurbana.es/Total/Envase'),)\n",
            "(rdflib.term.URIRef('http://www.madrid.limpiezaurbana.es/Total/Bolsas_caninas'),)\n",
            "(rdflib.term.URIRef('http://www.madrid.limpiezaurbana.es/Total/Mueble'),)\n",
            "(rdflib.term.URIRef('http://www.madrid.limpiezaurbana.es/Total/Papel_y_Carton'),)\n"
          ]
        }
      ]
    }
  ]
}