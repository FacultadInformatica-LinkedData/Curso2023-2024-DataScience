{
 "cells": [
  {
   "cell_type": "markdown",
   "metadata": {
    "id": "nOOPLCHF7hLB"
   },
   "source": [
    "**Task 07: Querying RDF(s)**"
   ]
  },
  {
   "cell_type": "code",
   "execution_count": 1,
   "metadata": {
    "colab": {
     "base_uri": "https://localhost:8080/",
     "height": 211
    },
    "id": "Yl9npCt8n6m-",
    "outputId": "096014c0-f1ad-4bd6-bada-ab3561ff1367"
   },
   "outputs": [
    {
     "name": "stdout",
     "output_type": "stream",
     "text": [
      "Requirement already satisfied: rdflib in c:\\users\\clasp\\anaconda3\\lib\\site-packages (7.0.0)\n",
      "Requirement already satisfied: isodate<0.7.0,>=0.6.0 in c:\\users\\clasp\\anaconda3\\lib\\site-packages (from rdflib) (0.6.1)\n",
      "Requirement already satisfied: pyparsing<4,>=2.1.0 in c:\\users\\clasp\\anaconda3\\lib\\site-packages (from rdflib) (3.0.9)\n",
      "Requirement already satisfied: six in c:\\users\\clasp\\anaconda3\\lib\\site-packages (from isodate<0.7.0,>=0.6.0->rdflib) (1.16.0)\n"
     ]
    }
   ],
   "source": [
    "!pip install rdflib\n",
    "github_storage = \"https://raw.githubusercontent.com/FacultadInformatica-LinkedData/Curso2023-2024/master/Assignment4/course_materials\""
   ]
  },
  {
   "cell_type": "markdown",
   "metadata": {
    "id": "XY7aPc86Bqoo"
   },
   "source": [
    "First let's read the RDF file"
   ]
  },
  {
   "cell_type": "code",
   "execution_count": 2,
   "metadata": {
    "colab": {
     "base_uri": "https://localhost:8080/",
     "height": 35
    },
    "id": "9ERh415on7kF",
    "outputId": "395dc571-ef76-4330-cf4b-0b9db3aa5277"
   },
   "outputs": [
    {
     "data": {
      "text/plain": [
       "<Graph identifier=N3c6588a5c1ac414ca253fd10c1fd9ab9 (<class 'rdflib.graph.Graph'>)>"
      ]
     },
     "execution_count": 2,
     "metadata": {},
     "output_type": "execute_result"
    }
   ],
   "source": [
    "from rdflib import Graph, Namespace, Literal\n",
    "from rdflib.namespace import RDF, RDFS\n",
    "g = Graph()\n",
    "g.namespace_manager.bind('ns', Namespace(\"http://somewhere#\"), override=False)\n",
    "g.namespace_manager.bind('vcard', Namespace(\"http://www.w3.org/2001/vcard-rdf/3.0#\"), override=False)\n",
    "g.parse(github_storage+\"/rdf/example6.rdf\", format=\"xml\")"
   ]
  },
  {
   "cell_type": "code",
   "execution_count": 3,
   "metadata": {},
   "outputs": [
    {
     "name": "stdout",
     "output_type": "stream",
     "text": [
      "@prefix foaf: <http://xmlns.com/foaf/0.1/> .\n",
      "@prefix ns: <http://somewhere#> .\n",
      "@prefix rdfs: <http://www.w3.org/2000/01/rdf-schema#> .\n",
      "@prefix vcard-rdf: <http://www.w3.org/2001/vcard-rdf/3.0/> .\n",
      "@prefix xsd: <http://www.w3.org/2001/XMLSchema#> .\n",
      "\n",
      "ns:Animal a rdfs:Class ;\n",
      "    rdfs:subClassOf ns:LivingThing .\n",
      "\n",
      "ns:LivingThing a rdfs:Class .\n",
      "\n",
      "ns:Person a rdfs:Class ;\n",
      "    rdfs:subClassOf ns:LivingThing .\n",
      "\n",
      "ns:PhDstudent a rdfs:Class ;\n",
      "    rdfs:subClassOf ns:Researcher .\n",
      "\n",
      "ns:Professor a rdfs:Class ;\n",
      "    rdfs:subClassOf ns:Person .\n",
      "\n",
      "ns:Researcher a rdfs:Class ;\n",
      "    rdfs:subClassOf ns:Person .\n",
      "\n",
      "ns:University a rdfs:Class .\n",
      "\n",
      "ns:JimGonzalez a ns:Professor ;\n",
      "    vcard-rdf:FN \"Jim Gonzalez\"^^xsd:string ;\n",
      "    vcard-rdf:Family \"Gonzalez\"^^xsd:string ;\n",
      "    vcard-rdf:Given \"Jim\"^^xsd:string .\n",
      "\n",
      "ns:JohnSmith a ns:Person ;\n",
      "    vcard-rdf:FN \"John Smith\"^^xsd:string ;\n",
      "    vcard-rdf:Family \"Smith\"^^xsd:string ;\n",
      "    vcard-rdf:Given \"John\"^^xsd:string .\n",
      "\n",
      "ns:UPM a ns:University .\n",
      "\n",
      "<http://somewhere#http://www.w3.org/2001/vcard-rdf/3.0/FN> a rdfs:Datatype ;\n",
      "    rdfs:range xsd:string .\n",
      "\n",
      "<http://somewhere#http://www.w3.org/2001/vcard-rdf/3.0/Family> a rdfs:Property ;\n",
      "    rdfs:range xsd:string .\n",
      "\n",
      "<http://somewhere#http://www.w3.org/2001/vcard-rdf/3.0/Given> a rdfs:Datatype ;\n",
      "    rdfs:range xsd:string .\n",
      "\n",
      "ns:JaneSmith a ns:Researcher ;\n",
      "    vcard-rdf:FN \"Jane Smith\"^^xsd:string ;\n",
      "    vcard-rdf:Family \"Smith\"^^xsd:string ;\n",
      "    vcard-rdf:Given \"Jane\"^^xsd:string ;\n",
      "    foaf:knows ns:RockySmith,\n",
      "        ns:SaraJones .\n",
      "\n",
      "ns:RockySmith a ns:Animal ;\n",
      "    vcard-rdf:FN \"Rocky Smith\"^^xsd:string ;\n",
      "    vcard-rdf:Family \"Smith\"^^xsd:string ;\n",
      "    vcard-rdf:Given \"Rocky\"^^xsd:string ;\n",
      "    foaf:knows ns:JaneSmith,\n",
      "        ns:SaraJones .\n",
      "\n",
      "ns:SaraJones a ns:Person ;\n",
      "    vcard-rdf:FN \"Sara Jones\"^^xsd:string ;\n",
      "    vcard-rdf:Family \"Jones\"^^xsd:string ;\n",
      "    vcard-rdf:Given \"Sara\"^^xsd:string ;\n",
      "    foaf:knows ns:JaneSmith,\n",
      "        ns:RockySmith .\n",
      "\n",
      "\n"
     ]
    }
   ],
   "source": [
    "print(g.serialize(format=\"ttl\"))"
   ]
  },
  {
   "cell_type": "markdown",
   "metadata": {
    "id": "qp1oe2Eddsvo"
   },
   "source": [
    "**TASK 7.1: List all subclasses of \"LivingThing\" with RDFLib and SPARQL**"
   ]
  },
  {
   "cell_type": "code",
   "execution_count": 21,
   "metadata": {
    "id": "tRcSWuMHOXBl"
   },
   "outputs": [
    {
     "name": "stdout",
     "output_type": "stream",
     "text": [
      "(rdflib.term.URIRef('http://somewhere#Person'),)\n",
      "(rdflib.term.URIRef('http://somewhere#Animal'),)\n"
     ]
    }
   ],
   "source": [
    "q1 = \"\"\"select distinct ?sub \n",
    "where\n",
    "{\n",
    "?sub rdfs:subClassOf ns:LivingThing.\n",
    "}\"\"\"\n",
    "\n",
    "# Visualize the results\n",
    "for r in g.query(q1):\n",
    "  print(r)"
   ]
  },
  {
   "cell_type": "markdown",
   "metadata": {
    "id": "gM3DASkTQQ5Y"
   },
   "source": [
    "**TASK 7.2: List all individuals of \"Person\" with RDFLib and SPARQL (remember the subClasses)**\n"
   ]
  },
  {
   "cell_type": "code",
   "execution_count": 19,
   "metadata": {
    "id": "LiKSPHRzS-XJ"
   },
   "outputs": [
    {
     "name": "stdout",
     "output_type": "stream",
     "text": [
      "(rdflib.term.URIRef('http://somewhere#SaraJones'),)\n",
      "(rdflib.term.URIRef('http://somewhere#JohnSmith'),)\n",
      "(rdflib.term.URIRef('http://somewhere#JaneSmith'),)\n",
      "(rdflib.term.URIRef('http://somewhere#JimGonzalez'),)\n"
     ]
    }
   ],
   "source": [
    "q2 = \"\"\"select distinct ?individuals \n",
    "where\n",
    "{\n",
    "{?individuals a ns:Person.}\n",
    "union\n",
    "{?sub rdfs:subClassOf ns:Person. ?individuals a ?sub}\n",
    "}\"\"\"\n",
    "\n",
    "# Visualize the results\n",
    "for r in g.query(q2):\n",
    "  print(r)"
   ]
  },
  {
   "cell_type": "markdown",
   "metadata": {
    "id": "MXBqtBkJd22I"
   },
   "source": [
    "**TASK 7.3: List all individuals of \"Person\" or \"Animal\" and all their properties including their class with RDFLib and SPARQL. You do not need to list the individuals of the subclasses of person**\n"
   ]
  },
  {
   "cell_type": "code",
   "execution_count": 25,
   "metadata": {
    "id": "APQGv3NHX8Tf"
   },
   "outputs": [
    {
     "name": "stdout",
     "output_type": "stream",
     "text": [
      "(rdflib.term.URIRef('http://somewhere#SaraJones'), rdflib.term.URIRef('http://www.w3.org/1999/02/22-rdf-syntax-ns#type'))\n",
      "(rdflib.term.URIRef('http://somewhere#SaraJones'), rdflib.term.URIRef('http://www.w3.org/2001/vcard-rdf/3.0/Given'))\n",
      "(rdflib.term.URIRef('http://somewhere#SaraJones'), rdflib.term.URIRef('http://www.w3.org/2001/vcard-rdf/3.0/FN'))\n",
      "(rdflib.term.URIRef('http://somewhere#SaraJones'), rdflib.term.URIRef('http://www.w3.org/2001/vcard-rdf/3.0/Family'))\n",
      "(rdflib.term.URIRef('http://somewhere#SaraJones'), rdflib.term.URIRef('http://xmlns.com/foaf/0.1/knows'))\n",
      "(rdflib.term.URIRef('http://somewhere#JohnSmith'), rdflib.term.URIRef('http://www.w3.org/1999/02/22-rdf-syntax-ns#type'))\n",
      "(rdflib.term.URIRef('http://somewhere#JohnSmith'), rdflib.term.URIRef('http://www.w3.org/2001/vcard-rdf/3.0/Given'))\n",
      "(rdflib.term.URIRef('http://somewhere#JohnSmith'), rdflib.term.URIRef('http://www.w3.org/2001/vcard-rdf/3.0/FN'))\n",
      "(rdflib.term.URIRef('http://somewhere#JohnSmith'), rdflib.term.URIRef('http://www.w3.org/2001/vcard-rdf/3.0/Family'))\n",
      "(rdflib.term.URIRef('http://somewhere#RockySmith'), rdflib.term.URIRef('http://www.w3.org/1999/02/22-rdf-syntax-ns#type'))\n",
      "(rdflib.term.URIRef('http://somewhere#RockySmith'), rdflib.term.URIRef('http://www.w3.org/2001/vcard-rdf/3.0/Given'))\n",
      "(rdflib.term.URIRef('http://somewhere#RockySmith'), rdflib.term.URIRef('http://www.w3.org/2001/vcard-rdf/3.0/FN'))\n",
      "(rdflib.term.URIRef('http://somewhere#RockySmith'), rdflib.term.URIRef('http://www.w3.org/2001/vcard-rdf/3.0/Family'))\n",
      "(rdflib.term.URIRef('http://somewhere#RockySmith'), rdflib.term.URIRef('http://xmlns.com/foaf/0.1/knows'))\n"
     ]
    }
   ],
   "source": [
    "q3 = \"\"\"select distinct ?individuals ?property\n",
    "where\n",
    "{\n",
    "?sub rdfs:subClassOf ns:LivingThing.\n",
    "?individuals a ?sub.\n",
    "?individuals ?property ?value.\n",
    "}\"\"\"\n",
    "\n",
    "# Visualize the results\n",
    "for r in g.query(q3):\n",
    "  print(r)"
   ]
  },
  {
   "cell_type": "markdown",
   "metadata": {
    "id": "3NyI7M2VNr9R"
   },
   "source": [
    "**TASK 7.4:  List the name of the persons who know Rocky**"
   ]
  },
  {
   "cell_type": "code",
   "execution_count": 28,
   "metadata": {
    "id": "I_CNoIKdNpbx"
   },
   "outputs": [
    {
     "name": "stdout",
     "output_type": "stream",
     "text": [
      "(rdflib.term.URIRef('http://somewhere#SaraJones'),)\n",
      "(rdflib.term.URIRef('http://somewhere#JaneSmith'),)\n"
     ]
    }
   ],
   "source": [
    "q4 = \"\"\"select distinct ?individuals\n",
    "where\n",
    "{\n",
    "?individuals foaf:knows ns:RockySmith.\n",
    "}\"\"\"\n",
    "\n",
    "# Visualize the results\n",
    "for r in g.query(q4):\n",
    "  print(r)"
   ]
  },
  {
   "cell_type": "markdown",
   "metadata": {
    "id": "kyjGsyxDPa2C"
   },
   "source": [
    "**Task 7.5: List the entities who know at least two other entities in the graph**"
   ]
  },
  {
   "cell_type": "code",
   "execution_count": null,
   "metadata": {
    "id": "yoVwVZUAPaLm"
   },
   "outputs": [],
   "source": [
    "\n",
    "\n",
    "# Visualize the results\n",
    "for r in g.query(q5):\n",
    "  print(r)"
   ]
  }
 ],
 "metadata": {
  "colab": {
   "provenance": []
  },
  "kernelspec": {
   "display_name": "Python 3 (ipykernel)",
   "language": "python",
   "name": "python3"
  },
  "language_info": {
   "codemirror_mode": {
    "name": "ipython",
    "version": 3
   },
   "file_extension": ".py",
   "mimetype": "text/x-python",
   "name": "python",
   "nbconvert_exporter": "python",
   "pygments_lexer": "ipython3",
   "version": "3.11.5"
  }
 },
 "nbformat": 4,
 "nbformat_minor": 1
}
